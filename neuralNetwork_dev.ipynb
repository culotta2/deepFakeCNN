{
 "cells": [
  {
   "cell_type": "code",
   "execution_count": 1,
   "metadata": {},
   "outputs": [],
   "source": [
    "import tensorflow as tf\n",
    "from tensorflow import keras\n",
    "from tensorflow.keras import layers\n",
    "from tensorflow.keras.optimizers import SGD\n",
    "#from sklearn.model_selection import cross_val_score\n",
    "#from sklearn.model_selection import KFold\n",
    "import numpy as np\n",
    "import numpy.random as rn\n",
    "import pandas as pd\n",
    "import matplotlib.pyplot as plt\n",
    "from matplotlib import style\n",
    "from pathlib import Path\n",
    "\n",
    "# Helper functions\n",
    "from helper_functions import get_images, prep_for_train\n",
    "\n",
    "# Styles for miles\n",
    "style.use('ggplot')"
   ]
  },
  {
   "cell_type": "code",
   "execution_count": 2,
   "metadata": {},
   "outputs": [],
   "source": [
    "model_deepfake = keras.Sequential([\n",
    "  layers.Conv2D(filters = 64, kernel_size = 4, strides = (1, 1), input_shape = (256, 256, 3), padding = 'same', activation = 'relu'),\n",
    "  layers.MaxPooling2D((4, 4)),\n",
    "  layers.Conv2D(filters = 32, kernel_size = 4, strides = (1, 1), padding = 'same', activation = 'relu'),\n",
    "  layers.MaxPooling2D((4, 4)),\n",
    "  layers.Conv2D(filters = 16, kernel_size = 4, strides = (1, 1), padding = 'same', activation = 'relu'),\n",
    "  layers.MaxPooling2D((4, 4)),\n",
    "  layers.Flatten(),\n",
    "  layers.Dense(units = 4096, activation = 'relu'),\n",
    "  layers.Dropout(rate = 0.1),\n",
    "  layers.Dense(units = 256, activation = 'relu'), \n",
    "  layers.Dense(units = 1, activation = 'softmax')\n",
    "])"
   ]
  },
  {
   "cell_type": "code",
   "execution_count": 3,
   "metadata": {},
   "outputs": [],
   "source": [
    "model_deepfake.compile(optimizer = SGD(lr=1e-6), \n",
    "                       metrics = [keras.metrics.BinaryAccuracy(), \n",
    "                                  keras.metrics.Precision(), \n",
    "                                  keras.metrics.Recall()],\n",
    "                       loss = keras.losses.BinaryCrossentropy())"
   ]
  },
  {
   "cell_type": "code",
   "execution_count": 4,
   "metadata": {},
   "outputs": [
    {
     "output_type": "stream",
     "name": "stdout",
     "text": [
      "Model: \"sequential\"\n_________________________________________________________________\nLayer (type)                 Output Shape              Param #   \n=================================================================\nconv2d (Conv2D)              (None, 256, 256, 64)      3136      \n_________________________________________________________________\nmax_pooling2d (MaxPooling2D) (None, 64, 64, 64)        0         \n_________________________________________________________________\nconv2d_1 (Conv2D)            (None, 64, 64, 32)        32800     \n_________________________________________________________________\nmax_pooling2d_1 (MaxPooling2 (None, 16, 16, 32)        0         \n_________________________________________________________________\nconv2d_2 (Conv2D)            (None, 16, 16, 16)        8208      \n_________________________________________________________________\nmax_pooling2d_2 (MaxPooling2 (None, 4, 4, 16)          0         \n_________________________________________________________________\nflatten (Flatten)            (None, 256)               0         \n_________________________________________________________________\ndense (Dense)                (None, 4096)              1052672   \n_________________________________________________________________\ndropout (Dropout)            (None, 4096)              0         \n_________________________________________________________________\ndense_1 (Dense)              (None, 256)               1048832   \n_________________________________________________________________\ndense_2 (Dense)              (None, 1)                 257       \n=================================================================\nTotal params: 2,145,905\nTrainable params: 2,145,905\nNon-trainable params: 0\n_________________________________________________________________\n"
     ]
    }
   ],
   "source": [
    "model_deepfake.summary()"
   ]
  },
  {
   "cell_type": "code",
   "execution_count": 5,
   "metadata": {},
   "outputs": [],
   "source": [
    "X, y = prep_for_train(get_images(10, seed=50))\n",
    "val_data = prep_for_train(get_images(2000, dtype='valid', seed=110001))"
   ]
  },
  {
   "cell_type": "code",
   "execution_count": null,
   "metadata": {},
   "outputs": [],
   "source": [
    "model_fit = model_deepfake.fit(X, \n",
    "                               y, \n",
    "                               epochs=20, \n",
    "                               batch_size=2000, \n",
    "                               validation_data=val_data)"
   ]
  },
  {
   "cell_type": "code",
   "execution_count": null,
   "metadata": {},
   "outputs": [],
   "source": [
    "# TRAIN THAT MODEL!\n",
    "with tf.device('/device:GPU:0'):\n",
    "    X, y = prep_for_train(get_images(10000, seed=50))\n",
    "    model_fit = model_deepfake.fit(X, y, epochs=20, batch_size=500, validation_data=prep_for_train(get_images(2000, dtype='valid', seed=110001)))"
   ]
  },
  {
   "cell_type": "code",
   "execution_count": null,
   "metadata": {},
   "outputs": [],
   "source": [
    "tf.compat.v1.Session(config=tf.compat.v1.ConfigProto(log_device_placement=True))"
   ]
  },
  {
   "cell_type": "code",
   "execution_count": null,
   "metadata": {
    "scrolled": false
   },
   "outputs": [],
   "source": [
    "model_fit.history['binary_accuracy']"
   ]
  },
  {
   "cell_type": "code",
   "execution_count": null,
   "metadata": {
    "scrolled": true
   },
   "outputs": [],
   "source": [
    "plt.plot(model_fit.history['binary_accuracy'], 'g.-', label = 'Binary Accuracy')\n",
    "plt.plot(model_fit.history['val_binary_accuracy'], 'r.-', label = 'Val Binary Accuracy')\n",
    "plt.legend()\n",
    "plt.title('Binary Accuracy over Time')\n",
    "plt.show()"
   ]
  },
  {
   "cell_type": "code",
   "execution_count": null,
   "metadata": {
    "scrolled": true
   },
   "outputs": [],
   "source": [
    "plt.plot(model_fit.history['precision'], 'g.-', label = 'Precision')\n",
    "plt.plot(model_fit.history['val_precision'], 'r.-', label = 'Val Precision')\n",
    "plt.legend()\n",
    "plt.title('Precision over Time')\n",
    "plt.show()"
   ]
  }
 ],
 "metadata": {
  "kernelspec": {
   "name": "pythonjvsc74a57bd0d2a653ea5a11e463c7a5ca7f1200831bd9d8f6e90aec136b3f9ac2ea2b6fabb6",
   "display_name": "Python 3.8.6  ('venv': venv)"
  },
  "language_info": {
   "codemirror_mode": {
    "name": "ipython",
    "version": 3
   },
   "file_extension": ".py",
   "mimetype": "text/x-python",
   "name": "python",
   "nbconvert_exporter": "python",
   "pygments_lexer": "ipython3",
   "version": "3.8.6"
  },
  "metadata": {
   "interpreter": {
    "hash": "d2a653ea5a11e463c7a5ca7f1200831bd9d8f6e90aec136b3f9ac2ea2b6fabb6"
   }
  }
 },
 "nbformat": 4,
 "nbformat_minor": 5
}