{
 "cells": [
  {
   "cell_type": "code",
   "execution_count": 1,
   "id": "level-third",
   "metadata": {},
   "outputs": [],
   "source": [
    "import tensorflow as tf\n",
    "from tensorflow import keras\n",
    "from tensorflow.keras import layers\n",
    "from tensorflow.keras.optimizers import SGD\n",
    "from sklearn.model_selection import cross_val_score\n",
    "from sklearn.model_selection import KFold\n",
    "import numpy as np\n",
    "import numpy.random as rn\n",
    "import pandas as pd\n",
    "import matplotlib.pyplot as plt\n",
    "from matplotlib import style\n",
    "from pathlib import Path\n",
    "\n",
    "# Helper functions\n",
    "from helper_functions import get_images, prep_for_train\n",
    "\n",
    "# Styles for miles\n",
    "style.use('ggplot')"
   ]
  },
  {
   "cell_type": "code",
   "execution_count": 2,
   "id": "allied-roommate",
   "metadata": {},
   "outputs": [],
   "source": [
    "model_deepfake = keras.Sequential([\n",
    "  layers.Conv2D(filters = 64, kernel_size = 4, strides = (1, 1), input_shape = (256, 256, 3), padding = 'same', activation = 'relu'),\n",
    "  layers.MaxPooling2D(),\n",
    "  layers.Conv2D(filters = 32, kernel_size = 4, strides = (1, 1), padding = 'same', activation = 'relu'),\n",
    "  layers.MaxPooling2D(),\n",
    "  layers.Conv2D(filters = 16, kernel_size = 4, strides = (1, 1), padding = 'same', activation = 'relu'),\n",
    "  layers.MaxPooling2D(),\n",
    "  layers.Flatten(),\n",
    "  layers.Dense(units = 4096, activation = 'relu'),\n",
    "  layers.Dropout(rate = 0.1),\n",
    "  layers.Dense(units = 256, activation = 'relu'), \n",
    "  layers.Dense(units = 1, activation = 'softmax')\n",
    "])"
   ]
  },
  {
   "cell_type": "code",
   "execution_count": 3,
   "id": "historical-moses",
   "metadata": {},
   "outputs": [],
   "source": [
    "model_deepfake.compile(optimizer = SGD(lr=1e-6), \n",
    "                       metrics = [keras.metrics.BinaryAccuracy(), \n",
    "                                  keras.metrics.Precision(), \n",
    "                                  keras.metrics.Recall()],\n",
    "                       loss = keras.losses.BinaryCrossentropy())"
   ]
  },
  {
   "cell_type": "code",
   "execution_count": 4,
   "id": "suspected-affiliate",
   "metadata": {},
   "outputs": [
    {
     "name": "stdout",
     "output_type": "stream",
     "text": [
      "Model: \"sequential\"\n",
      "_________________________________________________________________\n",
      "Layer (type)                 Output Shape              Param #   \n",
      "=================================================================\n",
      "conv2d (Conv2D)              (None, 256, 256, 64)      3136      \n",
      "_________________________________________________________________\n",
      "max_pooling2d (MaxPooling2D) (None, 128, 128, 64)      0         \n",
      "_________________________________________________________________\n",
      "conv2d_1 (Conv2D)            (None, 128, 128, 32)      32800     \n",
      "_________________________________________________________________\n",
      "max_pooling2d_1 (MaxPooling2 (None, 64, 64, 32)        0         \n",
      "_________________________________________________________________\n",
      "conv2d_2 (Conv2D)            (None, 64, 64, 16)        8208      \n",
      "_________________________________________________________________\n",
      "max_pooling2d_2 (MaxPooling2 (None, 32, 32, 16)        0         \n",
      "_________________________________________________________________\n",
      "flatten (Flatten)            (None, 16384)             0         \n",
      "_________________________________________________________________\n",
      "dense (Dense)                (None, 4096)              67112960  \n",
      "_________________________________________________________________\n",
      "dropout (Dropout)            (None, 4096)              0         \n",
      "_________________________________________________________________\n",
      "dense_1 (Dense)              (None, 256)               1048832   \n",
      "_________________________________________________________________\n",
      "dense_2 (Dense)              (None, 1)                 257       \n",
      "=================================================================\n",
      "Total params: 68,206,193\n",
      "Trainable params: 68,206,193\n",
      "Non-trainable params: 0\n",
      "_________________________________________________________________\n"
     ]
    }
   ],
   "source": [
    "model_deepfake.summary()"
   ]
  },
  {
   "cell_type": "code",
   "execution_count": 5,
   "id": "fancy-cleaners",
   "metadata": {},
   "outputs": [
    {
     "name": "stdout",
     "output_type": "stream",
     "text": [
      "Epoch 1/5\n",
      "2/2 [==============================] - 35s 26s/step - loss: 0.6941 - binary_accuracy: 0.4767 - precision: 0.4767 - recall: 1.0000 - val_loss: 0.6937 - val_binary_accuracy: 0.4995 - val_precision: 0.4995 - val_recall: 1.0000\n",
      "Epoch 2/5\n",
      "2/2 [==============================] - 32s 24s/step - loss: 0.6943 - binary_accuracy: 0.5100 - precision: 0.5100 - recall: 1.0000 - val_loss: 0.6937 - val_binary_accuracy: 0.4995 - val_precision: 0.4995 - val_recall: 1.0000\n",
      "Epoch 3/5\n",
      "2/2 [==============================] - 32s 24s/step - loss: 0.6922 - binary_accuracy: 0.5200 - precision: 0.5200 - recall: 1.0000 - val_loss: 0.6937 - val_binary_accuracy: 0.4995 - val_precision: 0.4995 - val_recall: 1.0000\n",
      "Epoch 4/5\n",
      "2/2 [==============================] - 34s 27s/step - loss: 0.6919 - binary_accuracy: 0.5067 - precision: 0.5067 - recall: 1.0000 - val_loss: 0.6937 - val_binary_accuracy: 0.4995 - val_precision: 0.4995 - val_recall: 1.0000\n",
      "Epoch 5/5\n",
      "2/2 [==============================] - 35s 26s/step - loss: 0.6922 - binary_accuracy: 0.5100 - precision: 0.5100 - recall: 1.0000 - val_loss: 0.6937 - val_binary_accuracy: 0.4995 - val_precision: 0.4995 - val_recall: 1.0000\n"
     ]
    }
   ],
   "source": [
    "# TRAIN THAT MODEL!\n",
    "X, y = prep_for_train(get_images(200, seed=700))\n",
    "model_fit = model_deepfake.fit(X, y, epochs=5, batch_size=100, validation_data=prep_for_train(get_images(1000, dtype='valid', seed=430)))"
   ]
  },
  {
   "cell_type": "code",
   "execution_count": 8,
   "id": "dedicated-graphics",
   "metadata": {},
   "outputs": [
    {
     "data": {
      "text/plain": [
       "array([0, 0, 0, 0, 0, 1, 1, 1, 1, 1, 1, 0, 0, 0, 1, 0, 1, 0, 0, 0, 1, 0,\n",
       "       0, 0, 0, 0, 1, 0, 1, 1, 0, 1, 0, 1, 0, 0, 0, 0, 0, 1, 0, 0, 1, 1,\n",
       "       1, 0, 0, 1, 0, 0, 0, 1, 1, 1, 0, 0, 0, 1, 1, 0, 1, 1, 0, 0, 1, 0,\n",
       "       0, 1, 1, 1, 1, 0, 1, 0, 0, 1, 1, 1, 1, 1, 0, 1, 1, 1, 0, 1, 0, 1,\n",
       "       0, 0, 1, 1, 1, 1, 0, 1, 0, 0, 0, 1, 1, 1, 0, 0, 0, 1, 0, 1, 1, 1,\n",
       "       0, 1, 0, 0, 1, 1, 1, 0, 0, 1, 0, 1, 0, 1, 0, 1, 1, 1, 0, 1, 1, 1,\n",
       "       1, 0, 1, 0, 1, 0, 1, 1, 1, 0, 0, 1, 1, 0, 0, 1, 0, 0, 0, 1, 1, 0,\n",
       "       0, 0, 0, 0, 1, 0, 1, 1, 0, 0, 0, 1, 0, 0, 0, 0, 0, 1, 1, 0, 1, 1,\n",
       "       1, 0, 0, 1, 0, 1, 0, 1, 1, 1, 1, 0, 0, 0, 1, 1, 0, 1, 1, 1, 1, 0,\n",
       "       1, 0], dtype=int64)"
      ]
     },
     "execution_count": 8,
     "metadata": {},
     "output_type": "execute_result"
    }
   ],
   "source": [
    "y.flatten()"
   ]
  },
  {
   "cell_type": "code",
   "execution_count": 15,
   "id": "desperate-tender",
   "metadata": {
    "scrolled": true
   },
   "outputs": [
    {
     "data": {
      "text/plain": [
       "{'loss': [0.6927696466445923,\n",
       "  0.6944542527198792,\n",
       "  0.6928955316543579,\n",
       "  0.6924312114715576,\n",
       "  0.693122386932373],\n",
       " 'binary_accuracy': [0.5, 0.5, 0.5, 0.5, 0.5],\n",
       " 'precision': [0.5, 0.5, 0.5, 0.5, 0.5],\n",
       " 'recall': [1.0, 1.0, 1.0, 1.0, 1.0],\n",
       " 'val_loss': [0.6937080025672913,\n",
       "  0.6937080025672913,\n",
       "  0.6937080025672913,\n",
       "  0.6937079429626465,\n",
       "  0.6937079429626465],\n",
       " 'val_binary_accuracy': [0.4994850754737854,\n",
       "  0.4994850754737854,\n",
       "  0.4994850754737854,\n",
       "  0.4994850754737854,\n",
       "  0.4994850754737854],\n",
       " 'val_precision': [0.4994850754737854,\n",
       "  0.4994850754737854,\n",
       "  0.4994850754737854,\n",
       "  0.4994850754737854,\n",
       "  0.4994850754737854],\n",
       " 'val_recall': [1.0, 1.0, 1.0, 1.0, 1.0]}"
      ]
     },
     "execution_count": 15,
     "metadata": {},
     "output_type": "execute_result"
    }
   ],
   "source": [
    "model_fit.history"
   ]
  },
  {
   "cell_type": "code",
   "execution_count": 16,
   "id": "atlantic-margin",
   "metadata": {
    "scrolled": true
   },
   "outputs": [
    {
     "data": {
      "image/png": "[encoded data removed]",
      "text/plain": [
       "<Figure size 432x288 with 1 Axes>"
      ]
     },
     "metadata": {},
     "output_type": "display_data"
    }
   ],
   "source": [
    "plt.plot(model_fit.history['binary_accuracy'], 'g.-', label = 'Binary Accuracy')\n",
    "plt.plot(model_fit.history['val_binary_accuracy'], 'r.-', label = 'Val Binary Accuracy')\n",
    "plt.legend()\n",
    "plt.title('Binary Accuracy over Time')\n",
    "plt.show()"
   ]
  },
  {
   "cell_type": "code",
   "execution_count": 17,
   "id": "exceptional-flavor",
   "metadata": {
    "scrolled": true
   },
   "outputs": [
    {
     "data": {
      "image/png": "[encoded data removed]",
      "text/plain": [
       "<Figure size 432x288 with 1 Axes>"
      ]
     },
     "metadata": {},
     "output_type": "display_data"
    }
   ],
   "source": [
    "plt.plot(model_fit.history['precision'], 'g.-', label = 'Precision')\n",
    "plt.plot(model_fit.history['val_precision'], 'r.-', label = 'Val Precision')\n",
    "plt.legend()\n",
    "plt.title('Precision over Time')\n",
    "plt.show()"
   ]
  },
  {
   "cell_type": "code",
   "execution_count": null,
   "id": "incredible-assist",
   "metadata": {},
   "outputs": [],
   "source": []
  }
 ],
 "metadata": {
  "kernelspec": {
   "display_name": "Python 3",
   "language": "python",
   "name": "python3"
  },
  "language_info": {
   "codemirror_mode": {
    "name": "ipython",
    "version": 3
   },
   "file_extension": ".py",
   "mimetype": "text/x-python",
   "name": "python",
   "nbconvert_exporter": "python",
   "pygments_lexer": "ipython3",
   "version": "3.7.3"
  },
  "metadata": {
   "interpreter": {
    "hash": "d2a653ea5a11e463c7a5ca7f1200831bd9d8f6e90aec136b3f9ac2ea2b6fabb6"
   }
  }
 },
 "nbformat": 4,
 "nbformat_minor": 5
}
