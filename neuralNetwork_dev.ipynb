{
 "cells": [
  {
   "cell_type": "code",
   "execution_count": 1,
   "id": "level-third",
   "metadata": {},
   "outputs": [],
   "source": [
    "import tensorflow as tf\n",
    "from tensorflow import keras\n",
    "from tensorflow.keras import layers\n",
    "from tensorflow.keras.optimizers import SGD\n",
    "from sklearn.model_selection import cross_val_score\n",
    "from sklearn.model_selection import KFold\n",
    "import numpy as np\n",
    "import numpy.random as rn\n",
    "import pandas as pd\n",
    "import matplotlib.pyplot as plt\n",
    "from matplotlib import style\n",
    "from pathlib import Path\n",
    "\n",
    "# Helper functions\n",
    "from helper_functions import get_images, prep_for_train\n",
    "\n",
    "# Styles for miles\n",
    "style.use('ggplot')"
   ]
  },
  {
   "cell_type": "code",
   "execution_count": 2,
   "id": "allied-roommate",
   "metadata": {},
   "outputs": [],
   "source": [
    "model_deepfake = keras.Sequential([\n",
    "  layers.Conv2D(filters = 64, kernel_size = 4, strides = (1, 1), input_shape = (256, 256, 3), padding = 'same', activation = 'relu'),\n",
    "  layers.MaxPooling2D(),\n",
    "  layers.Conv2D(filters = 32, kernel_size = 4, strides = (1, 1), padding = 'same', activation = 'relu'),\n",
    "  layers.MaxPooling2D(),\n",
    "  layers.Conv2D(filters = 16, kernel_size = 4, strides = (1, 1), padding = 'same', activation = 'relu'),\n",
    "  layers.MaxPooling2D(),\n",
    "  layers.Flatten(),\n",
    "  layers.Dense(units = 4096, activation = 'relu'),\n",
    "  layers.Dropout(rate = 0.1),\n",
    "  layers.Dense(units = 256, activation = 'relu'), \n",
    "  layers.Dense(units = 1)\n",
    "])"
   ]
  },
  {
   "cell_type": "code",
   "execution_count": 10,
   "id": "historical-moses",
   "metadata": {},
   "outputs": [],
   "source": [
    "model_deepfake.compile(optimizer = SGD(lr=0.001), \n",
    "                       metrics = [keras.metrics.BinaryAccuracy(), keras.metrics.Precision()],\n",
    "                       loss = keras.losses.BinaryCrossentropy())"
   ]
  },
  {
   "cell_type": "code",
   "execution_count": 11,
   "id": "suspected-affiliate",
   "metadata": {},
   "outputs": [
    {
     "name": "stdout",
     "output_type": "stream",
     "text": [
      "Model: \"sequential\"\n",
      "_________________________________________________________________\n",
      "Layer (type)                 Output Shape              Param #   \n",
      "=================================================================\n",
      "conv2d (Conv2D)              (None, 256, 256, 64)      3136      \n",
      "_________________________________________________________________\n",
      "max_pooling2d (MaxPooling2D) (None, 128, 128, 64)      0         \n",
      "_________________________________________________________________\n",
      "conv2d_1 (Conv2D)            (None, 128, 128, 32)      32800     \n",
      "_________________________________________________________________\n",
      "max_pooling2d_1 (MaxPooling2 (None, 64, 64, 32)        0         \n",
      "_________________________________________________________________\n",
      "conv2d_2 (Conv2D)            (None, 64, 64, 16)        8208      \n",
      "_________________________________________________________________\n",
      "max_pooling2d_2 (MaxPooling2 (None, 32, 32, 16)        0         \n",
      "_________________________________________________________________\n",
      "flatten (Flatten)            (None, 16384)             0         \n",
      "_________________________________________________________________\n",
      "dense (Dense)                (None, 4096)              67112960  \n",
      "_________________________________________________________________\n",
      "dropout (Dropout)            (None, 4096)              0         \n",
      "_________________________________________________________________\n",
      "dense_1 (Dense)              (None, 256)               1048832   \n",
      "_________________________________________________________________\n",
      "dense_2 (Dense)              (None, 1)                 257       \n",
      "=================================================================\n",
      "Total params: 68,206,193\n",
      "Trainable params: 68,206,193\n",
      "Non-trainable params: 0\n",
      "_________________________________________________________________\n"
     ]
    }
   ],
   "source": [
    "model_deepfake.summary()"
   ]
  },
  {
   "cell_type": "code",
   "execution_count": 13,
   "id": "early-balance",
   "metadata": {
    "scrolled": false
   },
   "outputs": [
    {
     "name": "stdout",
     "output_type": "stream",
     "text": [
      "Epoch 1/10\n",
      "2/2 [==============================] - 8s 6s/step - loss: 0.6470 - binary_accuracy: 0.6300 - precision_3: 0.8333 - val_loss: 0.7105 - val_binary_accuracy: 0.5400 - val_precision_3: 0.8000\n",
      "Epoch 2/10\n",
      "2/2 [==============================] - 10s 6s/step - loss: 0.6610 - binary_accuracy: 0.6000 - precision_3: 0.6000 - val_loss: 0.7065 - val_binary_accuracy: 0.5200 - val_precision_3: 0.5714\n",
      "Epoch 3/10\n",
      "2/2 [==============================] - 11s 7s/step - loss: 0.6556 - binary_accuracy: 0.6100 - precision_3: 0.6250 - val_loss: 0.7096 - val_binary_accuracy: 0.5300 - val_precision_3: 0.6667\n",
      "Epoch 4/10\n",
      "2/2 [==============================] - 12s 7s/step - loss: 0.6367 - binary_accuracy: 0.6300 - precision_3: 0.7500 - val_loss: 0.7095 - val_binary_accuracy: 0.5200 - val_precision_3: 0.6000\n",
      "Epoch 5/10\n",
      "2/2 [==============================] - 10s 6s/step - loss: 0.6371 - binary_accuracy: 0.6600 - precision_3: 0.8889 - val_loss: 0.7115 - val_binary_accuracy: 0.5300 - val_precision_3: 1.0000\n",
      "Epoch 6/10\n",
      "2/2 [==============================] - 12s 7s/step - loss: 0.6351 - binary_accuracy: 0.6400 - precision_3: 1.0000 - val_loss: 0.7083 - val_binary_accuracy: 0.5200 - val_precision_3: 0.6000\n",
      "Epoch 7/10\n",
      "2/2 [==============================] - 13s 8s/step - loss: 0.6351 - binary_accuracy: 0.6800 - precision_3: 0.9091 - val_loss: 0.7085 - val_binary_accuracy: 0.5100 - val_precision_3: 0.5000\n",
      "Epoch 8/10\n",
      "2/2 [==============================] - 13s 8s/step - loss: 0.6296 - binary_accuracy: 0.6500 - precision_3: 0.8750 - val_loss: 0.7074 - val_binary_accuracy: 0.5100 - val_precision_3: 0.5000\n",
      "Epoch 9/10\n",
      "2/2 [==============================] - 11s 6s/step - loss: 0.6267 - binary_accuracy: 0.6500 - precision_3: 0.8750 - val_loss: 0.7063 - val_binary_accuracy: 0.5000 - val_precision_3: 0.4000\n",
      "Epoch 10/10\n",
      "2/2 [==============================] - 10s 6s/step - loss: 0.6201 - binary_accuracy: 0.6700 - precision_3: 0.8333 - val_loss: 0.7115 - val_binary_accuracy: 0.5100 - val_precision_3: 0.5000\n"
     ]
    }
   ],
   "source": [
    "# TRAIN THAT MODEL!\n",
    "X, y = prep_for_train(get_images(100, seed=800))\n",
    "model_fit = model_deepfake.fit(X, y, epochs=10, batch_size=50, validation_data=prep_for_train(get_images(100, dtype='valid', seed=430)))"
   ]
  },
  {
   "cell_type": "code",
   "execution_count": 15,
   "id": "desperate-tender",
   "metadata": {
    "scrolled": true
   },
   "outputs": [
    {
     "data": {
      "text/plain": [
       "{'loss': [0.6469698548316956,\n",
       "  0.6609832048416138,\n",
       "  0.6556088924407959,\n",
       "  0.6366841197013855,\n",
       "  0.6371052265167236,\n",
       "  0.6351257562637329,\n",
       "  0.6351353526115417,\n",
       "  0.6296395063400269,\n",
       "  0.6266895532608032,\n",
       "  0.6200997829437256],\n",
       " 'binary_accuracy': [0.6299999952316284,\n",
       "  0.6000000238418579,\n",
       "  0.6100000143051147,\n",
       "  0.6299999952316284,\n",
       "  0.6600000262260437,\n",
       "  0.6399999856948853,\n",
       "  0.6800000071525574,\n",
       "  0.6499999761581421,\n",
       "  0.6499999761581421,\n",
       "  0.6700000166893005],\n",
       " 'precision_3': [0.8333333134651184,\n",
       "  0.6000000238418579,\n",
       "  0.625,\n",
       "  0.75,\n",
       "  0.8888888955116272,\n",
       "  1.0,\n",
       "  0.9090909361839294,\n",
       "  0.875,\n",
       "  0.875,\n",
       "  0.8333333134651184],\n",
       " 'val_loss': [0.710487961769104,\n",
       "  0.7065361142158508,\n",
       "  0.7096171379089355,\n",
       "  0.7095092535018921,\n",
       "  0.7115306258201599,\n",
       "  0.708304762840271,\n",
       "  0.708536684513092,\n",
       "  0.7074103355407715,\n",
       "  0.7063081860542297,\n",
       "  0.7114607095718384],\n",
       " 'val_binary_accuracy': [0.5400000214576721,\n",
       "  0.5199999809265137,\n",
       "  0.5299999713897705,\n",
       "  0.5199999809265137,\n",
       "  0.5299999713897705,\n",
       "  0.5199999809265137,\n",
       "  0.5099999904632568,\n",
       "  0.5099999904632568,\n",
       "  0.5,\n",
       "  0.5099999904632568],\n",
       " 'val_precision_3': [0.800000011920929,\n",
       "  0.5714285969734192,\n",
       "  0.6666666865348816,\n",
       "  0.6000000238418579,\n",
       "  1.0,\n",
       "  0.6000000238418579,\n",
       "  0.5,\n",
       "  0.5,\n",
       "  0.4000000059604645,\n",
       "  0.5]}"
      ]
     },
     "execution_count": 15,
     "metadata": {},
     "output_type": "execute_result"
    }
   ],
   "source": [
    "model_fit.history"
   ]
  },
  {
   "cell_type": "code",
   "execution_count": 16,
   "id": "atlantic-margin",
   "metadata": {},
   "outputs": [
    {
     "data": {
      "image/png": "[encoded data removed]",
      "text/plain": [
       "<Figure size 432x288 with 1 Axes>"
      ]
     },
     "metadata": {},
     "output_type": "display_data"
    }
   ],
   "source": [
    "plt.plot(model_fit.history['binary_accuracy'], 'g.-', label = 'Binary Accuracy')\n",
    "plt.plot(model_fit.history['val_binary_accuracy'], 'r.-', label = 'Val Binary Accuracy')\n",
    "plt.legend()\n",
    "plt.title('Binary Accuracy over Time')\n",
    "plt.show()"
   ]
  },
  {
   "cell_type": "code",
   "execution_count": null,
   "id": "exceptional-flavor",
   "metadata": {},
   "outputs": [],
   "source": []
  }
 ],
 "metadata": {
  "kernelspec": {
   "display_name": "Python 3",
   "language": "python",
   "name": "python3"
  },
  "language_info": {
   "codemirror_mode": {
    "name": "ipython",
    "version": 3
   },
   "file_extension": ".py",
   "mimetype": "text/x-python",
   "name": "python",
   "nbconvert_exporter": "python",
   "pygments_lexer": "ipython3",
   "version": "3.7.3"
  },
  "metadata": {
   "interpreter": {
    "hash": "d2a653ea5a11e463c7a5ca7f1200831bd9d8f6e90aec136b3f9ac2ea2b6fabb6"
   }
  }
 },
 "nbformat": 4,
 "nbformat_minor": 5
}
