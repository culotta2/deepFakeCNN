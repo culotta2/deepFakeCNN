{
 "cells": [
  {
   "cell_type": "code",
   "execution_count": 35,
   "id": "level-third",
   "metadata": {},
   "outputs": [],
   "source": [
    "import tensorflow as tf\n",
    "from tensorflow import keras\n",
    "from tensorflow.keras import layers\n",
    "from keras.optimizers import SGD\n",
    "from sklearn.model_selection import cross_val_score\n",
    "from sklearn.model_selection import KFold\n",
    "import numpy as np\n",
    "import numpy.random as rn\n",
    "import pandas as pd\n",
    "import matplotlib.pyplot as plt\n",
    "from pathlib import Path"
   ]
  },
  {
   "cell_type": "code",
   "execution_count": 36,
   "id": "allied-roommate",
   "metadata": {},
   "outputs": [],
   "source": [
    "model_deepfake = keras.Sequential([\n",
    "  layers.Conv2D(filters = 64, kernel_size = 4, strides = (1, 1), input_shape = (256, 256, 3), padding = 'same', activation = 'relu'),\n",
    "  layers.MaxPooling2D(),\n",
    "  layers.Conv2D(filters = 32, kernel_size = 4, strides = (1, 1), padding = 'same', activation = 'relu'),\n",
    "  layers.MaxPooling2D(),\n",
    "  layers.Conv2D(filters = 16, kernel_size = 4, strides = (1, 1), padding = 'same', activation = 'relu'),\n",
    "  layers.MaxPooling2D(),\n",
    "  layers.Flatten(),\n",
    "  layers.Dense(units = 4096, activation = 'relu'),\n",
    "  layers.Dropout(rate = 0.1),\n",
    "  layers.Dense(units = 256, activation = 'relu'), \n",
    "  layers.Dense(units = 1)\n",
    "])"
   ]
  },
  {
   "cell_type": "code",
   "execution_count": 37,
   "id": "historical-moses",
   "metadata": {},
   "outputs": [],
   "source": [
    "model_deepfake.compile(optimizer = SGD(lr=0.01), \n",
    "                       metrics = keras.metrics.BinaryAccuracy(),\n",
    "                       loss = keras.losses.BinaryCrossentropy())"
   ]
  },
  {
   "cell_type": "code",
   "execution_count": 38,
   "id": "suspected-affiliate",
   "metadata": {},
   "outputs": [
    {
     "name": "stdout",
     "output_type": "stream",
     "text": [
      "Model: \"sequential_1\"\n",
      "_________________________________________________________________\n",
      "Layer (type)                 Output Shape              Param #   \n",
      "=================================================================\n",
      "conv2d_3 (Conv2D)            (None, 256, 256, 64)      3136      \n",
      "_________________________________________________________________\n",
      "max_pooling2d_3 (MaxPooling2 (None, 128, 128, 64)      0         \n",
      "_________________________________________________________________\n",
      "conv2d_4 (Conv2D)            (None, 128, 128, 32)      32800     \n",
      "_________________________________________________________________\n",
      "max_pooling2d_4 (MaxPooling2 (None, 64, 64, 32)        0         \n",
      "_________________________________________________________________\n",
      "conv2d_5 (Conv2D)            (None, 64, 64, 16)        8208      \n",
      "_________________________________________________________________\n",
      "max_pooling2d_5 (MaxPooling2 (None, 32, 32, 16)        0         \n",
      "_________________________________________________________________\n",
      "flatten_1 (Flatten)          (None, 16384)             0         \n",
      "_________________________________________________________________\n",
      "dense_3 (Dense)              (None, 4096)              67112960  \n",
      "_________________________________________________________________\n",
      "dropout_1 (Dropout)          (None, 4096)              0         \n",
      "_________________________________________________________________\n",
      "dense_4 (Dense)              (None, 256)               1048832   \n",
      "_________________________________________________________________\n",
      "dense_5 (Dense)              (None, 1)                 257       \n",
      "=================================================================\n",
      "Total params: 68,206,193\n",
      "Trainable params: 68,206,193\n",
      "Non-trainable params: 0\n",
      "_________________________________________________________________\n"
     ]
    }
   ],
   "source": [
    "model_deepfake.summary()"
   ]
  },
  {
   "cell_type": "code",
   "execution_count": 5,
   "id": "limited-opportunity",
   "metadata": {},
   "outputs": [],
   "source": [
    "# Create a second function to randomly select image data from a file\n",
    "def get_images(n: int, dtype: str='train', seed: int=None):\n",
    "    '''\n",
    "    Returns n randomly selected testing, training, or validation data.\n",
    "    \n",
    "    Takes ~13 sec / 100 iter with n = 100\n",
    "    Takes ~118 sec / 1000 iter with n = 100\n",
    "    '''\n",
    "\n",
    "    # Make sure train param is valid\n",
    "    if dtype not in ['train', 'valid', 'test']:\n",
    "        raise Exception(\"dtype argument must be train, valid, or test.\")\n",
    "    \n",
    "    # Load labeled dataframes\n",
    "    PATHDIR = Path('data')\n",
    "    df = pd.read_csv(PATHDIR / f'{dtype}.csv', header = 0).drop(['original_path', 'Unnamed: 0', 'label_str'], axis=1)\n",
    "\n",
    "    \n",
    "    # Get the number of files in the directory of interest\n",
    "    n_files = {\"train\": 50000, \"valid\": 10000, \"test\": 10000}[dtype]\n",
    "    \n",
    "    # Make sure you don't want more pictures than we have\n",
    "    if n > n_files:\n",
    "        raise Exception(f'There are not {n} files in the {dtype} folder')\n",
    "    \n",
    "    # Create the paths to the data\n",
    "    datapath = Path('.') / 'data' / 'real_vs_fake' / 'real-vs-fake' / dtype\n",
    "    fakepath = datapath / 'fake'\n",
    "    realpath = datapath / 'real'\n",
    "    \n",
    "    # Set a seed if present\n",
    "    if seed is not None:\n",
    "        rn.seed(seed)\n",
    "    \n",
    "    # Get n random ids\n",
    "    sample_ids = rn.choice(df['id'].to_numpy(), size=n)\n",
    "    \n",
    "    # Get the labels and image paths from the ids\n",
    "    sample_df = df.copy()\n",
    "    sample_df = sample_df[sample_df['id'].isin(sample_ids)]\n",
    "\n",
    "    return sample_df"
   ]
  },
  {
   "cell_type": "code",
   "execution_count": 6,
   "id": "particular-choir",
   "metadata": {},
   "outputs": [],
   "source": [
    "# Create a function to prepare random images for training\n",
    "def prep_for_train(sample_df):\n",
    "    \"\"\"\n",
    "    Gets the images from the get_image family of functions into a format\n",
    "    that the model can understand.\n",
    "    \"\"\"\n",
    "    # Save the labels\n",
    "    y = sample_df['label'].to_numpy()\n",
    "\n",
    "    # Path to the data\n",
    "    DATADIR = Path('data/') / 'real_vs_fake'/ 'real-vs-fake'\n",
    "\n",
    "    # Load the sample images\n",
    "    n = sample_df.shape[0]\n",
    "    X = np.empty(shape=(n, 256, 256, 3))\n",
    "\n",
    "    # Load in the images to be trained on\n",
    "    for img_idx, img_path in enumerate(sample_df['path']):\n",
    "        img = plt.imread(DATADIR / img_path)\n",
    "        # plt.imshow(img)\n",
    "        # plt.show()\n",
    "        X[img_idx, :, :, :] = img / 255.0\n",
    "\n",
    "    return X, y[np.newaxis].reshape(-1, 1)\n",
    "        "
   ]
  },
  {
   "cell_type": "code",
   "execution_count": 39,
   "id": "early-balance",
   "metadata": {
    "scrolled": true
   },
   "outputs": [
    {
     "name": "stdout",
     "output_type": "stream",
     "text": [
      "Epoch 1/5\n",
      "2/2 [==============================] - 9s 6s/step - loss: 4.4048 - binary_accuracy: 0.5267 - val_loss: 7.3196 - val_binary_accuracy: 0.5200\n",
      "Epoch 2/5\n",
      "2/2 [==============================] - 10s 6s/step - loss: 6.5063 - binary_accuracy: 0.5733 - val_loss: 7.3196 - val_binary_accuracy: 0.5200\n",
      "Epoch 3/5\n",
      "2/2 [==============================] - 9s 6s/step - loss: 6.7097 - binary_accuracy: 0.5600 - val_loss: 7.3196 - val_binary_accuracy: 0.5200\n",
      "Epoch 4/5\n",
      "2/2 [==============================] - 9s 5s/step - loss: 6.7097 - binary_accuracy: 0.5600 - val_loss: 7.3196 - val_binary_accuracy: 0.5200\n",
      "Epoch 5/5\n",
      "2/2 [==============================] - 9s 5s/step - loss: 6.4047 - binary_accuracy: 0.5800 - val_loss: 7.3196 - val_binary_accuracy: 0.5200\n"
     ]
    }
   ],
   "source": [
    "# TRAIN THAT MODEL!\n",
    "X, y = prep_for_train(get_images(100, seed=69))\n",
    "model_fit = model_deepfake.fit(X, y, epochs=5, batch_size=50, validation_data=prep_for_train(get_images(100, dtype='valid', seed=12)))"
   ]
  },
  {
   "cell_type": "code",
   "execution_count": 40,
   "id": "desperate-tender",
   "metadata": {},
   "outputs": [
    {
     "data": {
      "text/plain": [
       "{'loss': [4.752274990081787,\n",
       "  6.557172775268555,\n",
       "  6.557172775268555,\n",
       "  6.557172775268555,\n",
       "  6.557172775268555],\n",
       " 'binary_accuracy': [0.550000011920929,\n",
       "  0.5699999928474426,\n",
       "  0.5699999928474426,\n",
       "  0.5699999928474426,\n",
       "  0.5699999928474426],\n",
       " 'val_loss': [7.319634437561035,\n",
       "  7.319634437561035,\n",
       "  7.319634437561035,\n",
       "  7.319634437561035,\n",
       "  7.319634437561035],\n",
       " 'val_binary_accuracy': [0.5199999809265137,\n",
       "  0.5199999809265137,\n",
       "  0.5199999809265137,\n",
       "  0.5199999809265137,\n",
       "  0.5199999809265137]}"
      ]
     },
     "execution_count": 40,
     "metadata": {},
     "output_type": "execute_result"
    }
   ],
   "source": [
    "model_fit.history"
   ]
  },
  {
   "cell_type": "code",
   "execution_count": 41,
   "id": "atlantic-margin",
   "metadata": {},
   "outputs": [
    {
     "data": {
      "image/png": "[encoded data removed]",
      "text/plain": [
       "<Figure size 432x288 with 1 Axes>"
      ]
     },
     "metadata": {
      "needs_background": "light"
     },
     "output_type": "display_data"
    }
   ],
   "source": [
    "plt.plot(model_fit.history['binary_accuracy'], 'g.-', label = 'Binary Accuracy')\n",
    "plt.plot(model_fit.history['val_binary_accuracy'], 'r.-', label = 'Val Binary Accuracy')\n",
    "plt.legend()\n",
    "plt.show()"
   ]
  },
  {
   "cell_type": "code",
   "execution_count": 20,
   "id": "extraordinary-spectrum",
   "metadata": {},
   "outputs": [],
   "source": [
    "model1 = model_fit"
   ]
  },
  {
   "cell_type": "code",
   "execution_count": 10,
   "id": "assisted-design",
   "metadata": {},
   "outputs": [
    {
     "name": "stdout",
     "output_type": "stream",
     "text": [
      "2.4.1\n"
     ]
    }
   ],
   "source": [
    "print(tf.__version__)"
   ]
  },
  {
   "cell_type": "code",
   "execution_count": 9,
   "id": "understood-manhattan",
   "metadata": {},
   "outputs": [
    {
     "name": "stdout",
     "output_type": "stream",
     "text": [
      "[name: \"/device:CPU:0\"\n",
      "device_type: \"CPU\"\n",
      "memory_limit: 268435456\n",
      "locality {\n",
      "}\n",
      "incarnation: 12550747937090227957\n",
      "]\n"
     ]
    }
   ],
   "source": [
    "from tensorflow.python.client import device_lib\n",
    "print(device_lib.list_local_devices())"
   ]
  },
  {
   "cell_type": "code",
   "execution_count": 8,
   "id": "suspected-regular",
   "metadata": {},
   "outputs": [
    {
     "data": {
      "text/plain": [
       "[]"
      ]
     },
     "execution_count": 8,
     "metadata": {},
     "output_type": "execute_result"
    }
   ],
   "source": [
    "tf.config.list_physical_devices('GPU')"
   ]
  },
  {
   "cell_type": "code",
   "execution_count": null,
   "id": "received-schema",
   "metadata": {},
   "outputs": [],
   "source": [
    "|"
   ]
  }
 ],
 "metadata": {
  "kernelspec": {
   "display_name": "Python 3",
   "language": "python",
   "name": "python3"
  },
  "language_info": {
   "codemirror_mode": {
    "name": "ipython",
    "version": 3
   },
   "file_extension": ".py",
   "mimetype": "text/x-python",
   "name": "python",
   "nbconvert_exporter": "python",
   "pygments_lexer": "ipython3",
   "version": "3.7.3"
  },
  "metadata": {
   "interpreter": {
    "hash": "d2a653ea5a11e463c7a5ca7f1200831bd9d8f6e90aec136b3f9ac2ea2b6fabb6"
   }
  }
 },
 "nbformat": 4,
 "nbformat_minor": 5
}
