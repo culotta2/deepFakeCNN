{
 "cells": [
  {
   "cell_type": "code",
   "execution_count": 2,
   "metadata": {},
   "outputs": [],
   "source": [
    "import tensorflow as tf\n",
    "from tensorflow import keras\n",
    "from tensorflow.keras import layers\n",
    "from sklearn.model_selection import cross_val_score\n",
    "from sklearn.model_selection import KFold\n",
    "import numpy as np\n",
    "import numpy.random as rn\n",
    "import pandas as pd\n",
    "import matplotlib.pyplot as plt"
   ]
  },
  {
   "cell_type": "code",
   "execution_count": null,
   "metadata": {},
   "outputs": [],
   "source": [
    "model_deepfake = keras.Sequential([\n",
    "  layers.Conv2D(filters = 64, kernel_size = 4, strides = (1, 1), input_shape = (256, 256, 3), padding = 'same', activation = 'relu'),\n",
    "  layers.MaxPooling2D(),\n",
    "  layers.Conv2D(filters = 32, kernel_size = 4, strides = (1, 1), padding = 'same', activation = 'relu'),\n",
    "  layers.MaxPooling2D(),\n",
    "  layers.Conv2D(filters = 16, kernel_size = 4, strides = (1, 1), padding = 'same', activation = 'relu'),\n",
    "  layers.MaxPooling2D(),\n",
    "  layers.Dropout(rate = 0.1),\n",
    "  layers.Flatten(),\n",
    "  layers.Dense(units = 4096, activation = 'relu'),\n",
    "  layers.Dense(units = 256, activation = 'relu'), \n",
    "  layers.Dense(units = 1)\n",
    "])"
   ]
  },
  {
   "cell_type": "code",
   "execution_count": null,
   "metadata": {},
   "outputs": [],
   "source": [
    "model_deepfake.compile(optimizer = 'adam', \n",
    "                       metrics = keras.metrics.BinaryAccuracy(),\n",
    "                       loss = keras.losses.BinaryCrossentropy())"
   ]
  },
  {
   "cell_type": "code",
   "execution_count": null,
   "metadata": {},
   "outputs": [],
   "source": [
    "model_deepfake.summary()"
   ]
  },
  {
   "cell_type": "code",
   "execution_count": 3,
   "metadata": {},
   "outputs": [],
   "source": [
    "# Create a function to randomly select image data from a file\n",
    "import pathlib\n",
    "from pathlib import Path\n",
    "\n",
    "def get_images1(n: int, dtype: str='train', seed: int=None):\n",
    "    '''\n",
    "    Returns n randomly selected testing, training, or validation data.\n",
    "    \n",
    "    Takes ~29 sec / 100 iter with n = 100\n",
    "    Takes ~300 sec / 1000 iter with n = 100\n",
    "    '''\n",
    "    # Make sure train param is valid\n",
    "    if dtype not in ['train', 'valid', 'test']:\n",
    "        raise Exception(\"dtype argument must be train, valid, or test.\")\n",
    "    \n",
    "    # Get the number of files in the directory of interest\n",
    "    n_files = {\"train\": 50000, \"valid\": 10000, \"test\": 10000}[dtype]\n",
    "    \n",
    "    # Make sure you don't want more pictures than we have\n",
    "    if n > n_files:\n",
    "        raise Exception(f'There are not {n} files in the {dtype} folder') \n",
    "    # Create the paths to the data\n",
    "    datapath = Path('.') / 'data' / 'real_vs_fake' / 'real-vs-fake' / dtype\n",
    "    fakepath = datapath / 'fake'\n",
    "    realpath = datapath / 'real'\n",
    "    \n",
    "    # Get the paths for the images\n",
    "    fakepaths = np.array([*fakepath.glob('*.jpg')])\n",
    "    realpaths = np.array([*realpath.glob('*.jpg')])\n",
    "    \n",
    "    ############# TODO: Optimize path -> list -> array process above ######\n",
    "    \n",
    "    # Decide on how many images will be real or fake\n",
    "    n_real = np.int(rn.randint(low = 0, high = n + 1, size = 1))\n",
    "    n_fake = n - n_real\n",
    "\n",
    "    # Randomly select the images\n",
    "    fake_imgs = rn.choice(fakepaths, size = n_fake, replace = False)\n",
    "    real_imgs = rn.choice(realpaths, size = n_real, replace = False)\n",
    "    \n",
    "#     return fake_imgs, real_imgs\n",
    "    return fake_imgs, real_imgs"
   ]
  },
  {
   "cell_type": "code",
   "execution_count": 4,
   "metadata": {},
   "outputs": [],
   "source": [
    "# Create a second function to randomly select image data from a file\n",
    "def get_images2(n: int, dtype: str='train', seed: int=None):\n",
    "    '''\n",
    "    Returns n randomly selected testing, training, or validation data.\n",
    "    \n",
    "    Takes ~13 sec / 100 iter with n = 100\n",
    "    Takes ~118 sec / 1000 iter with n = 100\n",
    "    '''\n",
    "    # Make sure train param is valid\n",
    "    if dtype not in ['train', 'valid', 'test']:\n",
    "        raise Exception(\"dtype argument must be train, valid, or test.\")\n",
    "    \n",
    "    # Get the number of files in the directory of interest\n",
    "    n_files = {\"train\": 50000, \"valid\": 10000, \"test\": 10000}[dtype]\n",
    "    \n",
    "    # Make sure you don't want more pictures than we have\n",
    "    if n > n_files:\n",
    "        raise Exception(f'There are not {n} files in the {dtype} folder')\n",
    "    \n",
    "    # Create the paths to the data\n",
    "    datapath = Path('.') / 'data' / 'real_vs_fake' / 'real-vs-fake' / dtype\n",
    "    fakepath = datapath / 'fake'\n",
    "    realpath = datapath / 'real'\n",
    "    \n",
    "    # Set a seed if present\n",
    "    if seed is not None:\n",
    "        rn.seed(seed)\n",
    "    \n",
    "    # Decide on how many images will be real or fake\n",
    "    n_real = np.int(rn.randint(low = 0, high = n + 1, size = 1))\n",
    "    n_fake = n - n_real\n",
    "\n",
    "    # Randomly select indicies for the images\n",
    "    idx_fake = set(rn.randint(low = 0, high = n_files, size = n_fake))\n",
    "    idx_real = set(rn.randint(low = 0, high = n_files, size = n_real))\n",
    "    \n",
    "    # Containers\n",
    "    fake_imgs = np.empty(n_fake, dtype = pathlib.PosixPath)\n",
    "    real_imgs = np.zeros(n_real, dtype = pathlib.PosixPath)\n",
    "    \n",
    "    # Get the paths    \n",
    "    fakepaths = fakepath.glob('*.jpg')\n",
    "    realpaths = realpath.glob('*.jpg')\n",
    "    \n",
    "    # Iterate over the fake files\n",
    "    i = 0\n",
    "    for ci, img in enumerate(fakepaths):\n",
    "        # Check if the current index is in the \n",
    "        if ci in idx_fake:\n",
    "            fake_imgs[i] = img\n",
    "            i += 1\n",
    "            \n",
    "            # Make sure we don't go out of bounds\n",
    "            if i >= n_fake:\n",
    "                break\n",
    "    # Iterate over the fake files\n",
    "    i = 0\n",
    "    for ci, img in enumerate(realpaths):\n",
    "        # Check if the current index is in the \n",
    "        if ci in idx_real:\n",
    "            real_imgs[i] = img\n",
    "            i += 1\n",
    "            \n",
    "            # Make sure we don't go out of bounds\n",
    "            if i >= n_real:\n",
    "                break\n",
    "    \n",
    "    return fake_imgs, real_imgs"
   ]
  },
  {
   "cell_type": "code",
   "execution_count": 5,
   "metadata": {},
   "outputs": [
    {
     "output_type": "execute_result",
     "data": {
      "text/plain": [
       "(array([PosixPath('data/real_vs_fake/real-vs-fake/train/fake/LZW4HKFBLD.jpg'),\n",
       "        PosixPath('data/real_vs_fake/real-vs-fake/train/fake/XOQ28STDQX.jpg'),\n",
       "        PosixPath('data/real_vs_fake/real-vs-fake/train/fake/OP1S5STNKQ.jpg'),\n",
       "        PosixPath('data/real_vs_fake/real-vs-fake/train/fake/Z9OUCP9DFG.jpg'),\n",
       "        PosixPath('data/real_vs_fake/real-vs-fake/train/fake/CVJW2Z73BU.jpg'),\n",
       "        PosixPath('data/real_vs_fake/real-vs-fake/train/fake/4I7R0JGYXS.jpg'),\n",
       "        PosixPath('data/real_vs_fake/real-vs-fake/train/fake/K5GWJ4MFP7.jpg'),\n",
       "        PosixPath('data/real_vs_fake/real-vs-fake/train/fake/4S1FVJSHO3.jpg'),\n",
       "        PosixPath('data/real_vs_fake/real-vs-fake/train/fake/C8EZ57M10J.jpg')],\n",
       "       dtype=object),\n",
       " array([PosixPath('data/real_vs_fake/real-vs-fake/train/real/65746.jpg')],\n",
       "       dtype=object))"
      ]
     },
     "metadata": {},
     "execution_count": 5
    }
   ],
   "source": [
    "get_images1(10)"
   ]
  },
  {
   "cell_type": "code",
   "execution_count": 6,
   "metadata": {},
   "outputs": [
    {
     "output_type": "execute_result",
     "data": {
      "text/plain": [
       "(array([PosixPath('data/real_vs_fake/real-vs-fake/train/fake/NVOVB77M0L.jpg'),\n",
       "        PosixPath('data/real_vs_fake/real-vs-fake/train/fake/GY7MWXX92C.jpg'),\n",
       "        PosixPath('data/real_vs_fake/real-vs-fake/train/fake/MW9I188EJL.jpg'),\n",
       "        PosixPath('data/real_vs_fake/real-vs-fake/train/fake/UZXFBEP8ZV.jpg'),\n",
       "        PosixPath('data/real_vs_fake/real-vs-fake/train/fake/H57HZZ13PE.jpg'),\n",
       "        PosixPath('data/real_vs_fake/real-vs-fake/train/fake/17O9HVG4JH.jpg'),\n",
       "        PosixPath('data/real_vs_fake/real-vs-fake/train/fake/MVTQWVIVQ3.jpg'),\n",
       "        PosixPath('data/real_vs_fake/real-vs-fake/train/fake/1NNL94X260.jpg'),\n",
       "        PosixPath('data/real_vs_fake/real-vs-fake/train/fake/U0DQCP7WUS.jpg'),\n",
       "        PosixPath('data/real_vs_fake/real-vs-fake/train/fake/UI2ROAWL2F.jpg')],\n",
       "       dtype=object),\n",
       " array([], dtype=object))"
      ]
     },
     "metadata": {},
     "execution_count": 6
    }
   ],
   "source": [
    "get_images2(10)"
   ]
  },
  {
   "cell_type": "code",
   "execution_count": null,
   "metadata": {},
   "outputs": [],
   "source": []
  }
 ],
 "metadata": {
  "kernelspec": {
   "name": "python386jvsc74a57bd0d2a653ea5a11e463c7a5ca7f1200831bd9d8f6e90aec136b3f9ac2ea2b6fabb6",
   "display_name": "Python 3.8.6  ('venv': venv)"
  },
  "language_info": {
   "codemirror_mode": {
    "name": "ipython",
    "version": 3
   },
   "file_extension": ".py",
   "mimetype": "text/x-python",
   "name": "python",
   "nbconvert_exporter": "python",
   "pygments_lexer": "ipython3",
   "version": "3.8.6"
  }
 },
 "nbformat": 4,
 "nbformat_minor": 5
}