{
 "cells": [
  {
   "cell_type": "code",
   "execution_count": 6,
   "id": "level-third",
   "metadata": {},
   "outputs": [],
   "source": [
    "import tensorflow as tf\n",
    "from tensorflow import keras\n",
    "from tensorflow.keras import layers\n",
    "from tensorflow.keras.optimizers import SGD\n",
    "from sklearn.model_selection import cross_val_score\n",
    "from sklearn.model_selection import KFold\n",
    "import numpy as np\n",
    "import numpy.random as rn\n",
    "import pandas as pd\n",
    "import matplotlib.pyplot as plt\n",
    "from matplotlib import style\n",
    "from pathlib import Path\n",
    "\n",
    "# Helper functions\n",
    "from helper_functions import get_images, prep_for_train\n",
    "\n",
    "# Styles for miles\n",
    "style.use('ggplot')"
   ]
  },
  {
   "cell_type": "code",
   "execution_count": 14,
   "id": "allied-roommate",
   "metadata": {},
   "outputs": [],
   "source": [
    "model_deepfake = keras.Sequential([\n",
    "  layers.Conv2D(filters = 64, kernel_size = 4, strides = (1, 1), input_shape = (256, 256, 3), padding = 'same', activation = 'relu'),\n",
    "  layers.MaxPooling2D((4, 4)),\n",
    "  layers.Conv2D(filters = 32, kernel_size = 4, strides = (1, 1), padding = 'same', activation = 'relu'),\n",
    "  layers.MaxPooling2D((4, 4)),\n",
    "  layers.Conv2D(filters = 16, kernel_size = 4, strides = (1, 1), padding = 'same', activation = 'relu'),\n",
    "  layers.MaxPooling2D((4, 4)),\n",
    "  layers.Flatten(),\n",
    "  layers.Dense(units = 4096, activation = 'relu'),\n",
    "  #layers.Dropout(rate = 0.1),\n",
    "  layers.Dense(units = 256, activation = 'relu'), \n",
    "  layers.Dense(units = 1, activation = 'softmax')\n",
    "])"
   ]
  },
  {
   "cell_type": "code",
   "execution_count": 15,
   "id": "historical-moses",
   "metadata": {},
   "outputs": [],
   "source": [
    "model_deepfake.compile(optimizer = SGD(lr=1e-6), \n",
    "                       metrics = [keras.metrics.BinaryAccuracy(), \n",
    "                                  keras.metrics.Precision(), \n",
    "                                  keras.metrics.Recall()],\n",
    "                       loss = keras.losses.BinaryCrossentropy())"
   ]
  },
  {
   "cell_type": "code",
   "execution_count": 16,
   "id": "suspected-affiliate",
   "metadata": {},
   "outputs": [
    {
     "name": "stdout",
     "output_type": "stream",
     "text": [
      "Model: \"sequential_2\"\n",
      "_________________________________________________________________\n",
      "Layer (type)                 Output Shape              Param #   \n",
      "=================================================================\n",
      "conv2d_6 (Conv2D)            (None, 256, 256, 64)      3136      \n",
      "_________________________________________________________________\n",
      "max_pooling2d_6 (MaxPooling2 (None, 64, 64, 64)        0         \n",
      "_________________________________________________________________\n",
      "conv2d_7 (Conv2D)            (None, 64, 64, 32)        32800     \n",
      "_________________________________________________________________\n",
      "max_pooling2d_7 (MaxPooling2 (None, 16, 16, 32)        0         \n",
      "_________________________________________________________________\n",
      "conv2d_8 (Conv2D)            (None, 16, 16, 16)        8208      \n",
      "_________________________________________________________________\n",
      "max_pooling2d_8 (MaxPooling2 (None, 4, 4, 16)          0         \n",
      "_________________________________________________________________\n",
      "flatten_2 (Flatten)          (None, 256)               0         \n",
      "_________________________________________________________________\n",
      "dense_6 (Dense)              (None, 4096)              1052672   \n",
      "_________________________________________________________________\n",
      "dense_7 (Dense)              (None, 256)               1048832   \n",
      "_________________________________________________________________\n",
      "dense_8 (Dense)              (None, 1)                 257       \n",
      "=================================================================\n",
      "Total params: 2,145,905\n",
      "Trainable params: 2,145,905\n",
      "Non-trainable params: 0\n",
      "_________________________________________________________________\n"
     ]
    }
   ],
   "source": [
    "model_deepfake.summary()"
   ]
  },
  {
   "cell_type": "code",
   "execution_count": 18,
   "id": "fancy-cleaners",
   "metadata": {},
   "outputs": [
    {
     "name": "stdout",
     "output_type": "stream",
     "text": [
      "Epoch 1/5\n",
      "5/5 [==============================] - 28s 5s/step - loss: 0.6927 - binary_accuracy: 0.5188 - precision_2: 0.5188 - recall_2: 1.0000 - val_loss: 0.6931 - val_binary_accuracy: 0.4995 - val_precision_2: 0.4995 - val_recall_2: 1.0000\n",
      "Epoch 2/5\n",
      "5/5 [==============================] - 20s 4s/step - loss: 0.6930 - binary_accuracy: 0.4978 - precision_2: 0.4978 - recall_2: 1.0000 - val_loss: 0.6931 - val_binary_accuracy: 0.4995 - val_precision_2: 0.4995 - val_recall_2: 1.0000\n",
      "Epoch 3/5\n",
      "5/5 [==============================] - 20s 4s/step - loss: 0.6926 - binary_accuracy: 0.5168 - precision_2: 0.5168 - recall_2: 1.0000 - val_loss: 0.6931 - val_binary_accuracy: 0.4995 - val_precision_2: 0.4995 - val_recall_2: 1.0000\n",
      "Epoch 4/5\n",
      "5/5 [==============================] - 20s 4s/step - loss: 0.6929 - binary_accuracy: 0.5045 - precision_2: 0.5045 - recall_2: 1.0000 - val_loss: 0.6931 - val_binary_accuracy: 0.4995 - val_precision_2: 0.4995 - val_recall_2: 1.0000\n",
      "Epoch 5/5\n",
      "5/5 [==============================] - 20s 4s/step - loss: 0.6929 - binary_accuracy: 0.5013 - precision_2: 0.5013 - recall_2: 1.0000 - val_loss: 0.6931 - val_binary_accuracy: 0.4995 - val_precision_2: 0.4995 - val_recall_2: 1.0000\n"
     ]
    }
   ],
   "source": [
    "# TRAIN THAT MODEL!\n",
    "X, y = prep_for_train(get_images(500, seed=700))\n",
    "model_fit = model_deepfake.fit(X, y, epochs=5, batch_size=100, validation_data=prep_for_train(get_images(1000, dtype='valid', seed=430)))"
   ]
  },
  {
   "cell_type": "code",
   "execution_count": 26,
   "id": "desperate-tender",
   "metadata": {
    "scrolled": false
   },
   "outputs": [
    {
     "data": {
      "text/plain": [
       "[0.5030303001403809,\n",
       " 0.5030303001403809,\n",
       " 0.5030303001403809,\n",
       " 0.5030303001403809,\n",
       " 0.5030303001403809]"
      ]
     },
     "execution_count": 26,
     "metadata": {},
     "output_type": "execute_result"
    }
   ],
   "source": [
    "model_fit.history['binary_accuracy']"
   ]
  },
  {
   "cell_type": "code",
   "execution_count": 21,
   "id": "atlantic-margin",
   "metadata": {
    "scrolled": true
   },
   "outputs": [
    {
     "data": {
      "image/png": "[encoded data removed]",
      "text/plain": [
       "<Figure size 432x288 with 1 Axes>"
      ]
     },
     "metadata": {},
     "output_type": "display_data"
    }
   ],
   "source": [
    "plt.plot(model_fit.history['binary_accuracy'], 'g.-', label = 'Binary Accuracy')\n",
    "plt.plot(model_fit.history['val_binary_accuracy'], 'r.-', label = 'Val Binary Accuracy')\n",
    "plt.legend()\n",
    "plt.title('Binary Accuracy over Time')\n",
    "plt.show()"
   ]
  },
  {
   "cell_type": "code",
   "execution_count": 17,
   "id": "exceptional-flavor",
   "metadata": {
    "scrolled": true
   },
   "outputs": [
    {
     "data": {
      "image/png": "[encoded data removed]",
      "text/plain": [
       "<Figure size 432x288 with 1 Axes>"
      ]
     },
     "metadata": {},
     "output_type": "display_data"
    }
   ],
   "source": [
    "plt.plot(model_fit.history['precision'], 'g.-', label = 'Precision')\n",
    "plt.plot(model_fit.history['val_precision'], 'r.-', label = 'Val Precision')\n",
    "plt.legend()\n",
    "plt.title('Precision over Time')\n",
    "plt.show()"
   ]
  },
  {
   "cell_type": "code",
   "execution_count": null,
   "id": "incredible-assist",
   "metadata": {},
   "outputs": [],
   "source": []
  }
 ],
 "metadata": {
  "kernelspec": {
   "display_name": "Python 3",
   "language": "python",
   "name": "python3"
  },
  "language_info": {
   "codemirror_mode": {
    "name": "ipython",
    "version": 3
   },
   "file_extension": ".py",
   "mimetype": "text/x-python",
   "name": "python",
   "nbconvert_exporter": "python",
   "pygments_lexer": "ipython3",
   "version": "3.7.3"
  },
  "metadata": {
   "interpreter": {
    "hash": "d2a653ea5a11e463c7a5ca7f1200831bd9d8f6e90aec136b3f9ac2ea2b6fabb6"
   }
  }
 },
 "nbformat": 4,
 "nbformat_minor": 5
}
