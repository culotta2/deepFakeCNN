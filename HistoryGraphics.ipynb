{
 "cells": [
  {
   "cell_type": "code",
   "execution_count": 157,
   "metadata": {},
   "outputs": [],
   "source": [
    "import numpy as np\n",
    "import matplotlib.pyplot as plt\n",
    "import matplotlib.ticker as mtick\n",
    "import pandas as pd\n",
    "\n",
    "plt.style.use('seaborn-white')"
   ]
  },
  {
   "cell_type": "code",
   "execution_count": 30,
   "metadata": {},
   "outputs": [],
   "source": [
    "def load_hist(file):\n",
    "    file = np.load(file, allow_pickle = True).all()\n",
    "    return pd.DataFrame.from_dict(file)"
   ]
  },
  {
   "cell_type": "code",
   "execution_count": 31,
   "metadata": {},
   "outputs": [],
   "source": [
    "hist_1_5 = load_hist(\"modelHistEpoch1_5.npy\")\n",
    "hist_6 = load_hist(\"modelHistEpoch6.npy\")\n",
    "hist_7_11 = load_hist(\"modelHistEpoch7_11.npy\")\n",
    "hist_12_19 = load_hist(\"modelHistEpoch12_19.npy\")\n",
    "hist_20_21 = load_hist(\"modelHistEpoch20_21.npy\")\n",
    "hist_22_26 = load_hist(\"modelHistEpoch22_26.npy\")"
   ]
  },
  {
   "cell_type": "code",
   "execution_count": 35,
   "metadata": {},
   "outputs": [],
   "source": [
    "model_hist = pd.concat([hist_1_5, hist_6, hist_7_11, hist_12_19, hist_20_21, hist_22_26])"
   ]
  },
  {
   "cell_type": "code",
   "execution_count": 36,
   "metadata": {},
   "outputs": [],
   "source": [
    "model_hist.reset_index(drop=True, inplace=True)"
   ]
  },
  {
   "cell_type": "code",
   "execution_count": 37,
   "metadata": {
    "scrolled": false
   },
   "outputs": [
    {
     "data": {
      "text/html": [
       "<div>\n",
       "<style scoped>\n",
       "    .dataframe tbody tr th:only-of-type {\n",
       "        vertical-align: middle;\n",
       "    }\n",
       "\n",
       "    .dataframe tbody tr th {\n",
       "        vertical-align: top;\n",
       "    }\n",
       "\n",
       "    .dataframe thead th {\n",
       "        text-align: right;\n",
       "    }\n",
       "</style>\n",
       "<table border=\"1\" class=\"dataframe\">\n",
       "  <thead>\n",
       "    <tr style=\"text-align: right;\">\n",
       "      <th></th>\n",
       "      <th>loss</th>\n",
       "      <th>binary_accuracy</th>\n",
       "      <th>val_loss</th>\n",
       "      <th>val_binary_accuracy</th>\n",
       "    </tr>\n",
       "  </thead>\n",
       "  <tbody>\n",
       "    <tr>\n",
       "      <th>0</th>\n",
       "      <td>0.562693</td>\n",
       "      <td>0.68801</td>\n",
       "      <td>0.496648</td>\n",
       "      <td>0.73015</td>\n",
       "    </tr>\n",
       "    <tr>\n",
       "      <th>1</th>\n",
       "      <td>0.426045</td>\n",
       "      <td>0.79393</td>\n",
       "      <td>0.413058</td>\n",
       "      <td>0.81050</td>\n",
       "    </tr>\n",
       "    <tr>\n",
       "      <th>2</th>\n",
       "      <td>0.349648</td>\n",
       "      <td>0.84004</td>\n",
       "      <td>0.334078</td>\n",
       "      <td>0.83885</td>\n",
       "    </tr>\n",
       "    <tr>\n",
       "      <th>3</th>\n",
       "      <td>0.300171</td>\n",
       "      <td>0.86614</td>\n",
       "      <td>0.294037</td>\n",
       "      <td>0.87380</td>\n",
       "    </tr>\n",
       "    <tr>\n",
       "      <th>4</th>\n",
       "      <td>0.258992</td>\n",
       "      <td>0.88749</td>\n",
       "      <td>0.258632</td>\n",
       "      <td>0.87940</td>\n",
       "    </tr>\n",
       "    <tr>\n",
       "      <th>5</th>\n",
       "      <td>0.228003</td>\n",
       "      <td>0.90365</td>\n",
       "      <td>0.226304</td>\n",
       "      <td>0.90365</td>\n",
       "    </tr>\n",
       "    <tr>\n",
       "      <th>6</th>\n",
       "      <td>0.207716</td>\n",
       "      <td>0.91359</td>\n",
       "      <td>0.204010</td>\n",
       "      <td>0.91675</td>\n",
       "    </tr>\n",
       "    <tr>\n",
       "      <th>7</th>\n",
       "      <td>0.185940</td>\n",
       "      <td>0.92328</td>\n",
       "      <td>0.206457</td>\n",
       "      <td>0.92380</td>\n",
       "    </tr>\n",
       "    <tr>\n",
       "      <th>8</th>\n",
       "      <td>0.172288</td>\n",
       "      <td>0.92853</td>\n",
       "      <td>0.176705</td>\n",
       "      <td>0.92885</td>\n",
       "    </tr>\n",
       "    <tr>\n",
       "      <th>9</th>\n",
       "      <td>0.158728</td>\n",
       "      <td>0.93530</td>\n",
       "      <td>0.178454</td>\n",
       "      <td>0.92325</td>\n",
       "    </tr>\n",
       "    <tr>\n",
       "      <th>10</th>\n",
       "      <td>0.146248</td>\n",
       "      <td>0.94097</td>\n",
       "      <td>0.170582</td>\n",
       "      <td>0.93595</td>\n",
       "    </tr>\n",
       "    <tr>\n",
       "      <th>11</th>\n",
       "      <td>0.135907</td>\n",
       "      <td>0.94522</td>\n",
       "      <td>0.180377</td>\n",
       "      <td>0.91795</td>\n",
       "    </tr>\n",
       "    <tr>\n",
       "      <th>12</th>\n",
       "      <td>0.128449</td>\n",
       "      <td>0.94882</td>\n",
       "      <td>0.169579</td>\n",
       "      <td>0.93750</td>\n",
       "    </tr>\n",
       "    <tr>\n",
       "      <th>13</th>\n",
       "      <td>0.120768</td>\n",
       "      <td>0.95170</td>\n",
       "      <td>0.174636</td>\n",
       "      <td>0.93755</td>\n",
       "    </tr>\n",
       "    <tr>\n",
       "      <th>14</th>\n",
       "      <td>0.114145</td>\n",
       "      <td>0.95443</td>\n",
       "      <td>0.152512</td>\n",
       "      <td>0.94085</td>\n",
       "    </tr>\n",
       "    <tr>\n",
       "      <th>15</th>\n",
       "      <td>0.106288</td>\n",
       "      <td>0.95799</td>\n",
       "      <td>0.143193</td>\n",
       "      <td>0.94350</td>\n",
       "    </tr>\n",
       "    <tr>\n",
       "      <th>16</th>\n",
       "      <td>0.103180</td>\n",
       "      <td>0.95913</td>\n",
       "      <td>0.138563</td>\n",
       "      <td>0.94585</td>\n",
       "    </tr>\n",
       "    <tr>\n",
       "      <th>17</th>\n",
       "      <td>0.096288</td>\n",
       "      <td>0.96215</td>\n",
       "      <td>0.135612</td>\n",
       "      <td>0.95070</td>\n",
       "    </tr>\n",
       "    <tr>\n",
       "      <th>18</th>\n",
       "      <td>0.090024</td>\n",
       "      <td>0.96494</td>\n",
       "      <td>0.135562</td>\n",
       "      <td>0.94480</td>\n",
       "    </tr>\n",
       "    <tr>\n",
       "      <th>19</th>\n",
       "      <td>0.090152</td>\n",
       "      <td>0.96482</td>\n",
       "      <td>0.135883</td>\n",
       "      <td>0.95150</td>\n",
       "    </tr>\n",
       "    <tr>\n",
       "      <th>20</th>\n",
       "      <td>0.083171</td>\n",
       "      <td>0.96746</td>\n",
       "      <td>0.140795</td>\n",
       "      <td>0.94275</td>\n",
       "    </tr>\n",
       "    <tr>\n",
       "      <th>21</th>\n",
       "      <td>0.081381</td>\n",
       "      <td>0.96876</td>\n",
       "      <td>0.136798</td>\n",
       "      <td>0.95290</td>\n",
       "    </tr>\n",
       "    <tr>\n",
       "      <th>22</th>\n",
       "      <td>0.078714</td>\n",
       "      <td>0.96989</td>\n",
       "      <td>0.139464</td>\n",
       "      <td>0.95185</td>\n",
       "    </tr>\n",
       "    <tr>\n",
       "      <th>23</th>\n",
       "      <td>0.071870</td>\n",
       "      <td>0.97236</td>\n",
       "      <td>0.139390</td>\n",
       "      <td>0.94625</td>\n",
       "    </tr>\n",
       "    <tr>\n",
       "      <th>24</th>\n",
       "      <td>0.072700</td>\n",
       "      <td>0.97239</td>\n",
       "      <td>0.119090</td>\n",
       "      <td>0.95270</td>\n",
       "    </tr>\n",
       "    <tr>\n",
       "      <th>25</th>\n",
       "      <td>0.069743</td>\n",
       "      <td>0.97318</td>\n",
       "      <td>0.113328</td>\n",
       "      <td>0.95835</td>\n",
       "    </tr>\n",
       "  </tbody>\n",
       "</table>\n",
       "</div>"
      ],
      "text/plain": [
       "        loss  binary_accuracy  val_loss  val_binary_accuracy\n",
       "0   0.562693          0.68801  0.496648              0.73015\n",
       "1   0.426045          0.79393  0.413058              0.81050\n",
       "2   0.349648          0.84004  0.334078              0.83885\n",
       "3   0.300171          0.86614  0.294037              0.87380\n",
       "4   0.258992          0.88749  0.258632              0.87940\n",
       "5   0.228003          0.90365  0.226304              0.90365\n",
       "6   0.207716          0.91359  0.204010              0.91675\n",
       "7   0.185940          0.92328  0.206457              0.92380\n",
       "8   0.172288          0.92853  0.176705              0.92885\n",
       "9   0.158728          0.93530  0.178454              0.92325\n",
       "10  0.146248          0.94097  0.170582              0.93595\n",
       "11  0.135907          0.94522  0.180377              0.91795\n",
       "12  0.128449          0.94882  0.169579              0.93750\n",
       "13  0.120768          0.95170  0.174636              0.93755\n",
       "14  0.114145          0.95443  0.152512              0.94085\n",
       "15  0.106288          0.95799  0.143193              0.94350\n",
       "16  0.103180          0.95913  0.138563              0.94585\n",
       "17  0.096288          0.96215  0.135612              0.95070\n",
       "18  0.090024          0.96494  0.135562              0.94480\n",
       "19  0.090152          0.96482  0.135883              0.95150\n",
       "20  0.083171          0.96746  0.140795              0.94275\n",
       "21  0.081381          0.96876  0.136798              0.95290\n",
       "22  0.078714          0.96989  0.139464              0.95185\n",
       "23  0.071870          0.97236  0.139390              0.94625\n",
       "24  0.072700          0.97239  0.119090              0.95270\n",
       "25  0.069743          0.97318  0.113328              0.95835"
      ]
     },
     "execution_count": 37,
     "metadata": {},
     "output_type": "execute_result"
    }
   ],
   "source": [
    "model_hist"
   ]
  },
  {
   "cell_type": "code",
   "execution_count": 180,
   "metadata": {
    "scrolled": false
   },
   "outputs": [
    {
     "data": {
      "image/png": "[encoded data removed]",
      "text/plain": [
       "<Figure size 640x400 with 1 Axes>"
      ]
     },
     "metadata": {},
     "output_type": "display_data"
    }
   ],
   "source": [
    "fig, ax = plt.subplots(1, 1, figsize = (8,5))\n",
    "plt.grid(color = '#F5F5F5',\n",
    "         which = \"major\")\n",
    "plt.plot(np.arange(1, 27), model_hist['binary_accuracy'] * 100, c = \"#F8766D\", label = \"Training Accuracy\")\n",
    "plt.plot(np.arange(1, 27), model_hist['val_binary_accuracy'] * 100, c = \"#619CFF\", label = \"Validation Accuracy\")\n",
    "plt.xlabel(\"Epoch\",\n",
    "           fontsize = 14)\n",
    "plt.ylabel(\"Accuracy\",\n",
    "           fontsize = 14)\n",
    "plt.xlim((0, 27))\n",
    "plt.xticks(np.arange(2, 27, 2),\n",
    "           fontsize = 13)\n",
    "plt.yticks(fontsize = 13)\n",
    "ax.yaxis.set_major_formatter(mtick.PercentFormatter(decimals = 0))\n",
    "ax.legend(loc = 'best', \n",
    "          fontsize = 11,\n",
    "          facecolor = 'white',\n",
    "          edgecolor = 'black',\n",
    "          frameon = True)\n",
    "plt.savefig(\"accuracy_plot.png\", dpi = 400, bbox_inches = 'tight')"
   ]
  },
  {
   "cell_type": "code",
   "execution_count": 181,
   "metadata": {
    "scrolled": false
   },
   "outputs": [
    {
     "data": {
      "image/png": "[encoded data removed]",
      "text/plain": [
       "<Figure size 640x400 with 1 Axes>"
      ]
     },
     "metadata": {},
     "output_type": "display_data"
    }
   ],
   "source": [
    "fig, ax = plt.subplots(1, 1, figsize = (8,5))\n",
    "plt.grid(color = '#F5F5F5',\n",
    "         which = \"major\")\n",
    "plt.plot(np.arange(1, 27), model_hist['loss'],  c = \"#F8766D\", label = \"Training Loss\")\n",
    "plt.plot(np.arange(1, 27), model_hist['val_loss'], c = \"#619CFF\", label = \"Validation Loss\")\n",
    "plt.xlabel(\"Epoch\",\n",
    "           fontsize = 14)\n",
    "plt.ylabel(\"Binary Crossentropy\",\n",
    "           fontsize = 14)\n",
    "plt.xlim((0, 27))\n",
    "plt.xticks(np.arange(2, 27, 2),\n",
    "           fontsize = 13)\n",
    "plt.yticks(fontsize = 13)\n",
    "ax.legend(loc = 'best', \n",
    "          fontsize = 11,\n",
    "          facecolor = 'white',\n",
    "          edgecolor = 'black',\n",
    "          frameon = True)\n",
    "plt.savefig(\"loss_plot.png\", dpi = 400, bbox_inches = 'tight')"
   ]
  },
  {
   "cell_type": "code",
   "execution_count": 182,
   "metadata": {},
   "outputs": [],
   "source": [
    "model_hist.to_csv(\"acc_loss_history.csv\", index = False)"
   ]
  },
  {
   "cell_type": "code",
   "execution_count": null,
   "metadata": {},
   "outputs": [],
   "source": []
  },
  {
   "cell_type": "code",
   "execution_count": null,
   "metadata": {},
   "outputs": [],
   "source": []
  },
  {
   "cell_type": "code",
   "execution_count": null,
   "metadata": {},
   "outputs": [],
   "source": []
  },
  {
   "cell_type": "code",
   "execution_count": null,
   "metadata": {},
   "outputs": [],
   "source": []
  },
  {
   "cell_type": "code",
   "execution_count": null,
   "metadata": {},
   "outputs": [],
   "source": []
  },
  {
   "cell_type": "code",
   "execution_count": null,
   "metadata": {},
   "outputs": [],
   "source": []
  },
  {
   "cell_type": "code",
   "execution_count": null,
   "metadata": {},
   "outputs": [],
   "source": []
  },
  {
   "cell_type": "code",
   "execution_count": null,
   "metadata": {},
   "outputs": [],
   "source": []
  },
  {
   "cell_type": "code",
   "execution_count": null,
   "metadata": {},
   "outputs": [],
   "source": []
  },
  {
   "cell_type": "code",
   "execution_count": null,
   "metadata": {},
   "outputs": [],
   "source": []
  },
  {
   "cell_type": "code",
   "execution_count": null,
   "metadata": {},
   "outputs": [],
   "source": []
  },
  {
   "cell_type": "code",
   "execution_count": null,
   "metadata": {},
   "outputs": [],
   "source": []
  }
 ],
 "metadata": {
  "kernelspec": {
   "display_name": "Python 3",
   "language": "python",
   "name": "python3"
  },
  "language_info": {
   "codemirror_mode": {
    "name": "ipython",
    "version": 3
   },
   "file_extension": ".py",
   "mimetype": "text/x-python",
   "name": "python",
   "nbconvert_exporter": "python",
   "pygments_lexer": "ipython3",
   "version": "3.7.6"
  }
 },
 "nbformat": 4,
 "nbformat_minor": 5
}
