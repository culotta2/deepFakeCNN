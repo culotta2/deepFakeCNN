{
 "cells": [
  {
   "cell_type": "code",
   "execution_count": 11,
   "id": "lucky-workplace",
   "metadata": {},
   "outputs": [],
   "source": [
    "import numpy as np\n",
    "import matplotlib.pyplot as plt\n",
    "import pandas as pd\n",
    "\n",
    "plt.style.use('ggplot')"
   ]
  },
  {
   "cell_type": "code",
   "execution_count": 73,
   "id": "fifth-pollution",
   "metadata": {},
   "outputs": [],
   "source": [
    "def load_hist(file):\n",
    "    file = np.load(file, allow_pickle = True).all()\n",
    "    return pd.DataFrame.from_dict(file)"
   ]
  },
  {
   "cell_type": "code",
   "execution_count": 76,
   "id": "fossil-section",
   "metadata": {},
   "outputs": [],
   "source": [
    "hist_1_5 = load_hist(\"modelHistEpoch1_5.npy\")\n",
    "hist_6 = load_hist(\"modelHistEpoch6.npy\")\n",
    "hist_7_11 = load_hist(\"modelHistEpoch7_11.npy\")\n",
    "hist_12_19 = load_hist(\"modelHistEpoch12_19.npy\")\n",
    "hist_20_21 = load_hist(\"modelHistEpoch20_21.npy\")"
   ]
  },
  {
   "cell_type": "code",
   "execution_count": 83,
   "id": "hindu-canberra",
   "metadata": {},
   "outputs": [],
   "source": [
    "model_hist = pd.concat([hist_1_5, hist_6, hist_7_11, hist_12_19, hist_20_21])"
   ]
  },
  {
   "cell_type": "code",
   "execution_count": 87,
   "id": "offshore-discipline",
   "metadata": {},
   "outputs": [],
   "source": [
    "model_hist.reset_index(drop=True, inplace=True)"
   ]
  },
  {
   "cell_type": "code",
   "execution_count": 89,
   "id": "satisfactory-anaheim",
   "metadata": {
    "scrolled": false
   },
   "outputs": [
    {
     "data": {
      "text/html": [
       "<div>\n",
       "<style scoped>\n",
       "    .dataframe tbody tr th:only-of-type {\n",
       "        vertical-align: middle;\n",
       "    }\n",
       "\n",
       "    .dataframe tbody tr th {\n",
       "        vertical-align: top;\n",
       "    }\n",
       "\n",
       "    .dataframe thead th {\n",
       "        text-align: right;\n",
       "    }\n",
       "</style>\n",
       "<table border=\"1\" class=\"dataframe\">\n",
       "  <thead>\n",
       "    <tr style=\"text-align: right;\">\n",
       "      <th></th>\n",
       "      <th>loss</th>\n",
       "      <th>binary_accuracy</th>\n",
       "      <th>val_loss</th>\n",
       "      <th>val_binary_accuracy</th>\n",
       "    </tr>\n",
       "  </thead>\n",
       "  <tbody>\n",
       "    <tr>\n",
       "      <th>0</th>\n",
       "      <td>0.562693</td>\n",
       "      <td>0.68801</td>\n",
       "      <td>0.496648</td>\n",
       "      <td>0.73015</td>\n",
       "    </tr>\n",
       "    <tr>\n",
       "      <th>1</th>\n",
       "      <td>0.426045</td>\n",
       "      <td>0.79393</td>\n",
       "      <td>0.413058</td>\n",
       "      <td>0.81050</td>\n",
       "    </tr>\n",
       "    <tr>\n",
       "      <th>2</th>\n",
       "      <td>0.349648</td>\n",
       "      <td>0.84004</td>\n",
       "      <td>0.334078</td>\n",
       "      <td>0.83885</td>\n",
       "    </tr>\n",
       "    <tr>\n",
       "      <th>3</th>\n",
       "      <td>0.300171</td>\n",
       "      <td>0.86614</td>\n",
       "      <td>0.294037</td>\n",
       "      <td>0.87380</td>\n",
       "    </tr>\n",
       "    <tr>\n",
       "      <th>4</th>\n",
       "      <td>0.258992</td>\n",
       "      <td>0.88749</td>\n",
       "      <td>0.258632</td>\n",
       "      <td>0.87940</td>\n",
       "    </tr>\n",
       "    <tr>\n",
       "      <th>5</th>\n",
       "      <td>0.228003</td>\n",
       "      <td>0.90365</td>\n",
       "      <td>0.226304</td>\n",
       "      <td>0.90365</td>\n",
       "    </tr>\n",
       "    <tr>\n",
       "      <th>6</th>\n",
       "      <td>0.207716</td>\n",
       "      <td>0.91359</td>\n",
       "      <td>0.204010</td>\n",
       "      <td>0.91675</td>\n",
       "    </tr>\n",
       "    <tr>\n",
       "      <th>7</th>\n",
       "      <td>0.185940</td>\n",
       "      <td>0.92328</td>\n",
       "      <td>0.206457</td>\n",
       "      <td>0.92380</td>\n",
       "    </tr>\n",
       "    <tr>\n",
       "      <th>8</th>\n",
       "      <td>0.172288</td>\n",
       "      <td>0.92853</td>\n",
       "      <td>0.176705</td>\n",
       "      <td>0.92885</td>\n",
       "    </tr>\n",
       "    <tr>\n",
       "      <th>9</th>\n",
       "      <td>0.158728</td>\n",
       "      <td>0.93530</td>\n",
       "      <td>0.178454</td>\n",
       "      <td>0.92325</td>\n",
       "    </tr>\n",
       "    <tr>\n",
       "      <th>10</th>\n",
       "      <td>0.146248</td>\n",
       "      <td>0.94097</td>\n",
       "      <td>0.170582</td>\n",
       "      <td>0.93595</td>\n",
       "    </tr>\n",
       "    <tr>\n",
       "      <th>11</th>\n",
       "      <td>0.135907</td>\n",
       "      <td>0.94522</td>\n",
       "      <td>0.180377</td>\n",
       "      <td>0.91795</td>\n",
       "    </tr>\n",
       "    <tr>\n",
       "      <th>12</th>\n",
       "      <td>0.128449</td>\n",
       "      <td>0.94882</td>\n",
       "      <td>0.169579</td>\n",
       "      <td>0.93750</td>\n",
       "    </tr>\n",
       "    <tr>\n",
       "      <th>13</th>\n",
       "      <td>0.120768</td>\n",
       "      <td>0.95170</td>\n",
       "      <td>0.174636</td>\n",
       "      <td>0.93755</td>\n",
       "    </tr>\n",
       "    <tr>\n",
       "      <th>14</th>\n",
       "      <td>0.114145</td>\n",
       "      <td>0.95443</td>\n",
       "      <td>0.152512</td>\n",
       "      <td>0.94085</td>\n",
       "    </tr>\n",
       "    <tr>\n",
       "      <th>15</th>\n",
       "      <td>0.106288</td>\n",
       "      <td>0.95799</td>\n",
       "      <td>0.143193</td>\n",
       "      <td>0.94350</td>\n",
       "    </tr>\n",
       "    <tr>\n",
       "      <th>16</th>\n",
       "      <td>0.103180</td>\n",
       "      <td>0.95913</td>\n",
       "      <td>0.138563</td>\n",
       "      <td>0.94585</td>\n",
       "    </tr>\n",
       "    <tr>\n",
       "      <th>17</th>\n",
       "      <td>0.096288</td>\n",
       "      <td>0.96215</td>\n",
       "      <td>0.135612</td>\n",
       "      <td>0.95070</td>\n",
       "    </tr>\n",
       "    <tr>\n",
       "      <th>18</th>\n",
       "      <td>0.090024</td>\n",
       "      <td>0.96494</td>\n",
       "      <td>0.135562</td>\n",
       "      <td>0.94480</td>\n",
       "    </tr>\n",
       "    <tr>\n",
       "      <th>19</th>\n",
       "      <td>0.090152</td>\n",
       "      <td>0.96482</td>\n",
       "      <td>0.135883</td>\n",
       "      <td>0.95150</td>\n",
       "    </tr>\n",
       "    <tr>\n",
       "      <th>20</th>\n",
       "      <td>0.083171</td>\n",
       "      <td>0.96746</td>\n",
       "      <td>0.140795</td>\n",
       "      <td>0.94275</td>\n",
       "    </tr>\n",
       "  </tbody>\n",
       "</table>\n",
       "</div>"
      ],
      "text/plain": [
       "        loss  binary_accuracy  val_loss  val_binary_accuracy\n",
       "0   0.562693          0.68801  0.496648              0.73015\n",
       "1   0.426045          0.79393  0.413058              0.81050\n",
       "2   0.349648          0.84004  0.334078              0.83885\n",
       "3   0.300171          0.86614  0.294037              0.87380\n",
       "4   0.258992          0.88749  0.258632              0.87940\n",
       "5   0.228003          0.90365  0.226304              0.90365\n",
       "6   0.207716          0.91359  0.204010              0.91675\n",
       "7   0.185940          0.92328  0.206457              0.92380\n",
       "8   0.172288          0.92853  0.176705              0.92885\n",
       "9   0.158728          0.93530  0.178454              0.92325\n",
       "10  0.146248          0.94097  0.170582              0.93595\n",
       "11  0.135907          0.94522  0.180377              0.91795\n",
       "12  0.128449          0.94882  0.169579              0.93750\n",
       "13  0.120768          0.95170  0.174636              0.93755\n",
       "14  0.114145          0.95443  0.152512              0.94085\n",
       "15  0.106288          0.95799  0.143193              0.94350\n",
       "16  0.103180          0.95913  0.138563              0.94585\n",
       "17  0.096288          0.96215  0.135612              0.95070\n",
       "18  0.090024          0.96494  0.135562              0.94480\n",
       "19  0.090152          0.96482  0.135883              0.95150\n",
       "20  0.083171          0.96746  0.140795              0.94275"
      ]
     },
     "execution_count": 89,
     "metadata": {},
     "output_type": "execute_result"
    }
   ],
   "source": [
    "model_hist"
   ]
  },
  {
   "cell_type": "code",
   "execution_count": 107,
   "id": "common-toronto",
   "metadata": {},
   "outputs": [
    {
     "data": {
      "image/png": "[encoded data removed]",
      "text/plain": [
       "<Figure size 432x288 with 1 Axes>"
      ]
     },
     "metadata": {},
     "output_type": "display_data"
    }
   ],
   "source": [
    "plt.plot(np.arange(1, 22), model_hist['binary_accuracy'], label = \"accuracy\")\n",
    "plt.plot(np.arange(1, 22), model_hist['val_binary_accuracy'], label = \"val accuracy\")\n",
    "plt.xticks(np.arange(1, 22, 2))\n",
    "plt.legend()\n",
    "plt.show()"
   ]
  },
  {
   "cell_type": "code",
   "execution_count": 106,
   "id": "digital-album",
   "metadata": {
    "scrolled": true
   },
   "outputs": [
    {
     "data": {
      "image/png": "[encoded data removed]",
      "text/plain": [
       "<Figure size 432x288 with 1 Axes>"
      ]
     },
     "metadata": {},
     "output_type": "display_data"
    }
   ],
   "source": [
    "plt.plot(np.arange(1, 22), model_hist['loss'], label = \"loss\")\n",
    "plt.plot(np.arange(1, 22), model_hist['val_loss'], label = \"val loss\")\n",
    "plt.legend()\n",
    "plt.xticks(np.arange(1, 22, 2))\n",
    "plt.show()"
   ]
  },
  {
   "cell_type": "code",
   "execution_count": null,
   "id": "fresh-transition",
   "metadata": {},
   "outputs": [],
   "source": []
  },
  {
   "cell_type": "code",
   "execution_count": null,
   "id": "coupled-python",
   "metadata": {},
   "outputs": [],
   "source": []
  },
  {
   "cell_type": "code",
   "execution_count": null,
   "id": "fresh-effect",
   "metadata": {},
   "outputs": [],
   "source": []
  },
  {
   "cell_type": "code",
   "execution_count": null,
   "id": "abandoned-attack",
   "metadata": {},
   "outputs": [],
   "source": []
  },
  {
   "cell_type": "code",
   "execution_count": null,
   "id": "restricted-jewelry",
   "metadata": {},
   "outputs": [],
   "source": []
  },
  {
   "cell_type": "code",
   "execution_count": null,
   "id": "starting-civilian",
   "metadata": {},
   "outputs": [],
   "source": []
  },
  {
   "cell_type": "code",
   "execution_count": null,
   "id": "important-librarian",
   "metadata": {},
   "outputs": [],
   "source": []
  },
  {
   "cell_type": "code",
   "execution_count": null,
   "id": "mechanical-foster",
   "metadata": {},
   "outputs": [],
   "source": []
  },
  {
   "cell_type": "code",
   "execution_count": null,
   "id": "dried-uncle",
   "metadata": {},
   "outputs": [],
   "source": []
  },
  {
   "cell_type": "code",
   "execution_count": null,
   "id": "widespread-joining",
   "metadata": {},
   "outputs": [],
   "source": []
  },
  {
   "cell_type": "code",
   "execution_count": null,
   "id": "unique-layout",
   "metadata": {},
   "outputs": [],
   "source": []
  },
  {
   "cell_type": "code",
   "execution_count": null,
   "id": "opposed-defeat",
   "metadata": {},
   "outputs": [],
   "source": []
  },
  {
   "cell_type": "code",
   "execution_count": null,
   "id": "accompanied-symphony",
   "metadata": {},
   "outputs": [],
   "source": []
  },
  {
   "cell_type": "code",
   "execution_count": null,
   "id": "established-malawi",
   "metadata": {},
   "outputs": [],
   "source": []
  },
  {
   "cell_type": "code",
   "execution_count": null,
   "id": "manual-talent",
   "metadata": {},
   "outputs": [],
   "source": []
  }
 ],
 "metadata": {
  "kernelspec": {
   "display_name": "Python 3",
   "language": "python",
   "name": "python3"
  },
  "language_info": {
   "codemirror_mode": {
    "name": "ipython",
    "version": 3
   },
   "file_extension": ".py",
   "mimetype": "text/x-python",
   "name": "python",
   "nbconvert_exporter": "python",
   "pygments_lexer": "ipython3",
   "version": "3.7.3"
  }
 },
 "nbformat": 4,
 "nbformat_minor": 5
}
