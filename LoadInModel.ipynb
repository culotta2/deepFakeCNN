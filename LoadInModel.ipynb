{
 "cells": [
  {
   "cell_type": "code",
   "execution_count": 1,
   "metadata": {},
   "outputs": [],
   "source": [
    "import pickle\n",
    "from tensorflow import keras\n",
    "\n",
    "def LoadDeepfakeModel():\n",
    "    \n",
    "    with open(\"PickledModel/modelWeights.pickle\", \"rb\") as f:\n",
    "        weights_loadin = pickle.load(f)\n",
    "    with open(\"PickledModel/modelConfig.pickle\", \"rb\") as f:\n",
    "        configuration_loadin = pickle.load(f)\n",
    "        \n",
    "    new_model = keras.Sequential.from_config(configuration_loadin)\n",
    "    new_model.compile(optimizer = 'adam', \n",
    "                      metrics = [keras.metrics.BinaryAccuracy()],\n",
    "                      loss = keras.losses.BinaryCrossentropy(from_logits = True,\n",
    "                                                             name = 'binary_crossentropy'))\n",
    "    new_model.set_weights(weights_loadin)\n",
    "    \n",
    "    return new_model"
   ]
  }
 ],
 "metadata": {
  "kernelspec": {
   "display_name": "Python 3",
   "language": "python",
   "name": "python3"
  },
  "language_info": {
   "codemirror_mode": {
    "name": "ipython",
    "version": 3
   },
   "file_extension": ".py",
   "mimetype": "text/x-python",
   "name": "python",
   "nbconvert_exporter": "python",
   "pygments_lexer": "ipython3",
   "version": "3.7.3"
  }
 },
 "nbformat": 4,
 "nbformat_minor": 4
}
