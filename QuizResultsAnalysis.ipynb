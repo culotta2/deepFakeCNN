{
 "cells": [
  {
   "cell_type": "code",
   "execution_count": 1,
   "id": "primary-aircraft",
   "metadata": {},
   "outputs": [],
   "source": [
    "import numpy as np\n",
    "import pandas as pd\n",
    "import matplotlib.pyplot as plt\n",
    "import matplotlib.ticker as mtick"
   ]
  },
  {
   "cell_type": "code",
   "execution_count": 2,
   "id": "conceptual-drive",
   "metadata": {},
   "outputs": [],
   "source": [
    "quiz_results = pd.read_csv(\"quiz_summary.txt\", sep = \"\\\\s+\").drop(index = 15, axis = 0)\n",
    "quiz_avg = pd.read_csv(\"quiz_summary.txt\", sep = \"\\\\s+\").iloc[15]['score']"
   ]
  },
  {
   "cell_type": "code",
   "execution_count": 3,
   "id": "atmospheric-lawsuit",
   "metadata": {},
   "outputs": [],
   "source": [
    "model_results = pd.read_csv(\"SummaryTables/acc_loss_history.csv\")\n",
    "model_acc = pd.read_csv(\"SummaryTables/test_results.csv\")['Accuracy'].iloc[0]"
   ]
  },
  {
   "cell_type": "code",
   "execution_count": 4,
   "id": "typical-actress",
   "metadata": {},
   "outputs": [
    {
     "data": {
      "text/html": [
       "<div>\n",
       "<style scoped>\n",
       "    .dataframe tbody tr th:only-of-type {\n",
       "        vertical-align: middle;\n",
       "    }\n",
       "\n",
       "    .dataframe tbody tr th {\n",
       "        vertical-align: top;\n",
       "    }\n",
       "\n",
       "    .dataframe thead th {\n",
       "        text-align: right;\n",
       "    }\n",
       "</style>\n",
       "<table border=\"1\" class=\"dataframe\">\n",
       "  <thead>\n",
       "    <tr style=\"text-align: right;\">\n",
       "      <th></th>\n",
       "      <th>name</th>\n",
       "      <th>score</th>\n",
       "    </tr>\n",
       "  </thead>\n",
       "  <tbody>\n",
       "    <tr>\n",
       "      <th>0</th>\n",
       "      <td>Dakota</td>\n",
       "      <td>0.600000</td>\n",
       "    </tr>\n",
       "    <tr>\n",
       "      <th>1</th>\n",
       "      <td>Sara</td>\n",
       "      <td>0.700000</td>\n",
       "    </tr>\n",
       "    <tr>\n",
       "      <th>2</th>\n",
       "      <td>Jian</td>\n",
       "      <td>0.633333</td>\n",
       "    </tr>\n",
       "    <tr>\n",
       "      <th>3</th>\n",
       "      <td>Justin</td>\n",
       "      <td>0.666667</td>\n",
       "    </tr>\n",
       "    <tr>\n",
       "      <th>4</th>\n",
       "      <td>Kameron</td>\n",
       "      <td>0.900000</td>\n",
       "    </tr>\n",
       "    <tr>\n",
       "      <th>5</th>\n",
       "      <td>Amberly</td>\n",
       "      <td>0.733333</td>\n",
       "    </tr>\n",
       "    <tr>\n",
       "      <th>6</th>\n",
       "      <td>Ashley</td>\n",
       "      <td>0.533333</td>\n",
       "    </tr>\n",
       "    <tr>\n",
       "      <th>7</th>\n",
       "      <td>Dak</td>\n",
       "      <td>0.500000</td>\n",
       "    </tr>\n",
       "    <tr>\n",
       "      <th>8</th>\n",
       "      <td>Dom</td>\n",
       "      <td>0.733333</td>\n",
       "    </tr>\n",
       "    <tr>\n",
       "      <th>9</th>\n",
       "      <td>Krys</td>\n",
       "      <td>0.400000</td>\n",
       "    </tr>\n",
       "    <tr>\n",
       "      <th>10</th>\n",
       "      <td>Liz</td>\n",
       "      <td>0.366667</td>\n",
       "    </tr>\n",
       "    <tr>\n",
       "      <th>11</th>\n",
       "      <td>Mo</td>\n",
       "      <td>0.900000</td>\n",
       "    </tr>\n",
       "    <tr>\n",
       "      <th>12</th>\n",
       "      <td>Rachel</td>\n",
       "      <td>0.600000</td>\n",
       "    </tr>\n",
       "    <tr>\n",
       "      <th>13</th>\n",
       "      <td>Wenshan</td>\n",
       "      <td>0.633333</td>\n",
       "    </tr>\n",
       "    <tr>\n",
       "      <th>14</th>\n",
       "      <td>Ananay</td>\n",
       "      <td>0.500000</td>\n",
       "    </tr>\n",
       "  </tbody>\n",
       "</table>\n",
       "</div>"
      ],
      "text/plain": [
       "       name     score\n",
       "0    Dakota  0.600000\n",
       "1      Sara  0.700000\n",
       "2      Jian  0.633333\n",
       "3    Justin  0.666667\n",
       "4   Kameron  0.900000\n",
       "5   Amberly  0.733333\n",
       "6    Ashley  0.533333\n",
       "7       Dak  0.500000\n",
       "8       Dom  0.733333\n",
       "9      Krys  0.400000\n",
       "10      Liz  0.366667\n",
       "11       Mo  0.900000\n",
       "12   Rachel  0.600000\n",
       "13  Wenshan  0.633333\n",
       "14   Ananay  0.500000"
      ]
     },
     "execution_count": 4,
     "metadata": {},
     "output_type": "execute_result"
    }
   ],
   "source": [
    "quiz_results"
   ]
  },
  {
   "cell_type": "code",
   "execution_count": 5,
   "id": "stupid-israeli",
   "metadata": {
    "scrolled": false
   },
   "outputs": [
    {
     "data": {
      "text/plain": [
       "0     0.73015\n",
       "1     0.81050\n",
       "2     0.83885\n",
       "3     0.87380\n",
       "4     0.87940\n",
       "5     0.90365\n",
       "6     0.91675\n",
       "7     0.92380\n",
       "8     0.92885\n",
       "9     0.92325\n",
       "10    0.93595\n",
       "11    0.91795\n",
       "12    0.93750\n",
       "13    0.93755\n",
       "14    0.94085\n",
       "15    0.94350\n",
       "16    0.94585\n",
       "17    0.95070\n",
       "18    0.94480\n",
       "19    0.95150\n",
       "20    0.94275\n",
       "21    0.95290\n",
       "22    0.95185\n",
       "23    0.94625\n",
       "24    0.95270\n",
       "25    0.95835\n",
       "Name: val_binary_accuracy, dtype: float64"
      ]
     },
     "execution_count": 5,
     "metadata": {},
     "output_type": "execute_result"
    }
   ],
   "source": [
    "model_results['val_binary_accuracy']"
   ]
  },
  {
   "cell_type": "code",
   "execution_count": 6,
   "id": "complete-porter",
   "metadata": {
    "scrolled": true
   },
   "outputs": [
    {
     "data": {
      "image/png": "[encoded data removed]",
      "text/plain": [
       "<Figure size 576x360 with 1 Axes>"
      ]
     },
     "metadata": {
      "needs_background": "light"
     },
     "output_type": "display_data"
    }
   ],
   "source": [
    "fig, ax = plt.subplots(1, 1, figsize = (8,5))\n",
    "plt.hist(quiz_results['score']*100, bins = np.arange(0.35, 1, 0.05)*100, edgecolor = 'black', color = 'lightgray')\n",
    "plt.vlines(model_results['val_binary_accuracy'].loc[25]*100, \n",
    "           ymin = 0, \n",
    "           ymax = 5, \n",
    "           linestyle = 'dashed',\n",
    "           color = 'green',\n",
    "           label = \"Model Test\\nAccuracy\")\n",
    "plt.vlines(quiz_avg*100, \n",
    "           ymin = 0, \n",
    "           ymax = 5, \n",
    "           linestyle = 'dashed',\n",
    "           color = 'red', \n",
    "           label = \"Average Quiz\\nAccuracy\")\n",
    "plt.ylim(0, 4.5)\n",
    "plt.yticks(np.arange(0, 5, 1),\n",
    "           fontsize = 13)\n",
    "plt.xticks(fontsize = 13)\n",
    "ax.xaxis.set_major_formatter(mtick.PercentFormatter(decimals = 0))\n",
    "plt.legend(loc = \"upper left\",\n",
    "           fontsize = 11,\n",
    "           facecolor = 'white',\n",
    "           edgecolor = 'black',)\n",
    "plt.xlabel(\"Accuracy\",\n",
    "           fontsize = 14)\n",
    "plt.ylabel(\"Count\",\n",
    "           fontsize = 14)\n",
    "plt.savefig(\"QuizResultsPlot.png\", dpi = 400, bbox_inches = 'tight')"
   ]
  },
  {
   "cell_type": "code",
   "execution_count": 7,
   "id": "dried-norfolk",
   "metadata": {},
   "outputs": [
    {
     "data": {
      "text/plain": [
       "0.9570000171661376"
      ]
     },
     "execution_count": 7,
     "metadata": {},
     "output_type": "execute_result"
    }
   ],
   "source": [
    "model_acc"
   ]
  },
  {
   "cell_type": "code",
   "execution_count": 8,
   "id": "grateful-horizon",
   "metadata": {},
   "outputs": [
    {
     "data": {
      "text/plain": [
       "0.626667"
      ]
     },
     "execution_count": 8,
     "metadata": {},
     "output_type": "execute_result"
    }
   ],
   "source": [
    "quiz_avg"
   ]
  },
  {
   "cell_type": "code",
   "execution_count": 9,
   "id": "brown-defense",
   "metadata": {
    "scrolled": true
   },
   "outputs": [
    {
     "data": {
      "text/plain": [
       "0.1506528479406878"
      ]
     },
     "execution_count": 9,
     "metadata": {},
     "output_type": "execute_result"
    }
   ],
   "source": [
    "np.std(quiz_results['score'])"
   ]
  },
  {
   "cell_type": "code",
   "execution_count": 10,
   "id": "electric-technique",
   "metadata": {},
   "outputs": [
    {
     "data": {
      "text/plain": [
       "[0.32536130411862435, 0.9279726958813757]"
      ]
     },
     "execution_count": 10,
     "metadata": {},
     "output_type": "execute_result"
    }
   ],
   "source": [
    "[quiz_avg - 2*np.std(quiz_results['score']), quiz_avg + 2*np.std(quiz_results['score'])]"
   ]
  }
 ],
 "metadata": {
  "kernelspec": {
   "display_name": "Python 3",
   "language": "python",
   "name": "python3"
  },
  "language_info": {
   "codemirror_mode": {
    "name": "ipython",
    "version": 3
   },
   "file_extension": ".py",
   "mimetype": "text/x-python",
   "name": "python",
   "nbconvert_exporter": "python",
   "pygments_lexer": "ipython3",
   "version": "3.7.3"
  }
 },
 "nbformat": 4,
 "nbformat_minor": 5
}
